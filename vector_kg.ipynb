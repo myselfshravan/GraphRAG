{
 "cells": [
  {
   "cell_type": "code",
   "id": "initial_id",
   "metadata": {
    "collapsed": true,
    "ExecuteTime": {
     "end_time": "2025-01-02T11:35:59.754589Z",
     "start_time": "2025-01-02T11:35:59.745683Z"
    }
   },
   "source": [
    "from weaviate.util import generate_uuid5\n",
    "import weaviate\n",
    "import json\n",
    "import pandas as pd\n",
    "from config import OPENAI_API_KEY"
   ],
   "outputs": [],
   "execution_count": 33
  },
  {
   "metadata": {
    "ExecuteTime": {
     "end_time": "2025-01-02T11:37:06.154491Z",
     "start_time": "2025-01-02T11:37:04.559443Z"
    }
   },
   "cell_type": "code",
   "source": [
    "from weaviate.classes.init import Auth\n",
    "import os\n",
    "\n",
    "client = weaviate.connect_to_weaviate_cloud(\n",
    "    cluster_url=\"https://avugsj2rqzuzue4krudmkg.c0.us-east1.gcp.weaviate.cloud\",\n",
    "    auth_credentials=Auth.api_key(\"j4mQUOGvKR69OH6hFjdYbc6yY9oJOguPhoaR\"),\n",
    "    headers={\n",
    "        'X-OpenAI-Api-key': OPENAI_API_KEY}\n",
    ")\n",
    "print(client.is_ready())"
   ],
   "id": "bef352e8824477e8",
   "outputs": [
    {
     "name": "stdout",
     "output_type": "stream",
     "text": [
      "True\n"
     ]
    }
   ],
   "execution_count": 36
  },
  {
   "metadata": {
    "ExecuteTime": {
     "end_time": "2025-01-02T11:37:11.243172Z",
     "start_time": "2025-01-02T11:37:09.931276Z"
    }
   },
   "cell_type": "code",
   "source": "df = pd.read_csv(\"./data/PubMed_Dataset.csv\")",
   "id": "1c1a858611be861",
   "outputs": [],
   "execution_count": 37
  },
  {
   "metadata": {
    "ExecuteTime": {
     "end_time": "2025-01-02T11:37:16.369597Z",
     "start_time": "2025-01-02T11:37:16.350772Z"
    }
   },
   "cell_type": "code",
   "source": [
    "#Filter the dataset if needed\n",
    "df = df[:100]\n",
    "df"
   ],
   "id": "849307dae04d05b6",
   "outputs": [
    {
     "data": {
      "text/plain": [
       "                                                Title  \\\n",
       "0   Expression of p53 and coexistence of HPV in pr...   \n",
       "1   Vitamin D status in pregnant Indian women acro...   \n",
       "2   [Identification of a functionally important di...   \n",
       "3   Multilayer capsules: a promising microencapsul...   \n",
       "4   Nanohydrogel with N,N'-bis(acryloyl)cystine cr...   \n",
       "..                                                ...   \n",
       "95  Diagnosis of myeloproliferative disease by ana...   \n",
       "96  Finite difference modelling of the temperature...   \n",
       "97  Men's sexual response to female partner's intr...   \n",
       "98  A serum factor stimulating cathepsin D-release...   \n",
       "99  Mitochondrial Lon protease is a human stress p...   \n",
       "\n",
       "                                         abstractText  \\\n",
       "0   Fifty-four paraffin embedded tissue sections f...   \n",
       "1   The present cross-sectional study was conducte...   \n",
       "2   The occurrence of individual amino acids and d...   \n",
       "3   In 1980, Lim and Sun introduced a microcapsule...   \n",
       "4   Substantially improved hydrogel particles base...   \n",
       "..                                                ...   \n",
       "95  Analysis of platelet volume distribution curve...   \n",
       "96  Non-linear propagation of ultrasound can lead ...   \n",
       "97  OBJECTIVE: To study sexual function, quality o...   \n",
       "98  A serum factor preparation extensively purifie...   \n",
       "99  The targeted removal of damaged proteins by pr...   \n",
       "\n",
       "                                            meshMajor      pmid  \\\n",
       "0   ['DNA Probes, HPV', 'DNA, Viral', 'Female', 'H...   8549602   \n",
       "1   ['Adult', 'Alkaline Phosphatase', 'Breast Feed...  21736816   \n",
       "2   ['Amino Acid Sequence', 'Analgesics, Opioid', ...  19060934   \n",
       "3   ['Acrylic Resins', 'Alginates', 'Animals', 'Bi...  11426874   \n",
       "4   ['Antineoplastic Agents', 'Cell Proliferation'...  28323099   \n",
       "..                                                ...       ...   \n",
       "95  ['Acute Disease', 'Aged', 'Aging', 'Clone Cell...   6794355   \n",
       "96  ['Acoustics', 'Models, Theoretical', 'Nonlinea...  10829673   \n",
       "97  ['Academic Medical Centers', 'Administration, ...  28189292   \n",
       "98  ['Animals', 'Calcium', 'Calmodulin', 'Cathepsi...   6368282   \n",
       "99  ['Aging', 'Cell Line, Tumor', 'Cell Proliferat...  19439239   \n",
       "\n",
       "                                               meshid  \\\n",
       "0   [['D13.444.600.223.555', 'D27.505.259.750.600....   \n",
       "1   [['M01.060.116'], ['D08.811.277.352.650.035'],...   \n",
       "2   [['G02.111.570.060', 'L01.453.245.667.060'], [...   \n",
       "3   [['D05.750.716.822.111', 'D25.720.716.822.111'...   \n",
       "4   [['D27.505.954.248'], ['G04.161.750', 'G07.345...   \n",
       "..                                                ...   \n",
       "95  [['C23.550.291.125'], ['M01.060.116.100'], ['G...   \n",
       "96  [['H01.671.031'], ['E05.599'], ['E05.599.850',...   \n",
       "97  [['N02.278.020'], ['E02.319.267.050'], ['Z01.5...   \n",
       "98  [['B01.050'], ['D01.268.552.100', 'D01.552.539...   \n",
       "99  [['G07.345.124'], ['A11.251.210.190', 'A11.251...   \n",
       "\n",
       "                                             meshroot  A  B  C  D  E  F  G  H  \\\n",
       "0   ['Chemicals and Drugs [D]', 'Organisms [B]', '...  0  1  1  1  1  0  0  1   \n",
       "1   ['Named Groups [M]', 'Chemicals and Drugs [D]'...  0  1  1  1  1  1  1  0   \n",
       "2   ['Phenomena and Processes [G]', 'Information S...  1  1  0  1  1  0  1  0   \n",
       "3   ['Chemicals and Drugs [D]', 'Technology, Indus...  1  1  1  1  1  0  1  0   \n",
       "4   ['Chemicals and Drugs [D]', 'Phenomena and Pro...  1  1  0  1  1  0  1  0   \n",
       "..                                                ... .. .. .. .. .. .. .. ..   \n",
       "95  ['Diseases [C]', 'Named Groups [M]', 'Phenomen...  1  1  1  1  1  0  1  0   \n",
       "96  ['Disciplines and Occupations [H]', 'Analytica...  1  0  0  0  1  0  1  1   \n",
       "97  ['Health Care [N]', 'Analytical, Diagnostic an...  0  1  0  1  1  1  1  0   \n",
       "98  ['Organisms [B]', 'Chemicals and Drugs [D]', '...  1  1  0  1  1  0  0  0   \n",
       "99  ['Phenomena and Processes [G]', 'Anatomy [A]',...  1  1  0  1  1  0  1  0   \n",
       "\n",
       "    I  J  L  M  N  Z  \n",
       "0   0  0  0  0  0  0  \n",
       "1   1  1  0  1  1  1  \n",
       "2   0  0  1  0  0  0  \n",
       "3   0  1  0  0  0  0  \n",
       "4   0  1  0  0  0  0  \n",
       ".. .. .. .. .. .. ..  \n",
       "95  0  0  0  1  0  0  \n",
       "96  0  0  0  0  0  0  \n",
       "97  1  0  0  1  1  1  \n",
       "98  0  0  0  0  0  0  \n",
       "99  0  0  0  0  1  0  \n",
       "\n",
       "[100 rows x 20 columns]"
      ],
      "text/html": [
       "<div>\n",
       "<style scoped>\n",
       "    .dataframe tbody tr th:only-of-type {\n",
       "        vertical-align: middle;\n",
       "    }\n",
       "\n",
       "    .dataframe tbody tr th {\n",
       "        vertical-align: top;\n",
       "    }\n",
       "\n",
       "    .dataframe thead th {\n",
       "        text-align: right;\n",
       "    }\n",
       "</style>\n",
       "<table border=\"1\" class=\"dataframe\">\n",
       "  <thead>\n",
       "    <tr style=\"text-align: right;\">\n",
       "      <th></th>\n",
       "      <th>Title</th>\n",
       "      <th>abstractText</th>\n",
       "      <th>meshMajor</th>\n",
       "      <th>pmid</th>\n",
       "      <th>meshid</th>\n",
       "      <th>meshroot</th>\n",
       "      <th>A</th>\n",
       "      <th>B</th>\n",
       "      <th>C</th>\n",
       "      <th>D</th>\n",
       "      <th>E</th>\n",
       "      <th>F</th>\n",
       "      <th>G</th>\n",
       "      <th>H</th>\n",
       "      <th>I</th>\n",
       "      <th>J</th>\n",
       "      <th>L</th>\n",
       "      <th>M</th>\n",
       "      <th>N</th>\n",
       "      <th>Z</th>\n",
       "    </tr>\n",
       "  </thead>\n",
       "  <tbody>\n",
       "    <tr>\n",
       "      <th>0</th>\n",
       "      <td>Expression of p53 and coexistence of HPV in pr...</td>\n",
       "      <td>Fifty-four paraffin embedded tissue sections f...</td>\n",
       "      <td>['DNA Probes, HPV', 'DNA, Viral', 'Female', 'H...</td>\n",
       "      <td>8549602</td>\n",
       "      <td>[['D13.444.600.223.555', 'D27.505.259.750.600....</td>\n",
       "      <td>['Chemicals and Drugs [D]', 'Organisms [B]', '...</td>\n",
       "      <td>0</td>\n",
       "      <td>1</td>\n",
       "      <td>1</td>\n",
       "      <td>1</td>\n",
       "      <td>1</td>\n",
       "      <td>0</td>\n",
       "      <td>0</td>\n",
       "      <td>1</td>\n",
       "      <td>0</td>\n",
       "      <td>0</td>\n",
       "      <td>0</td>\n",
       "      <td>0</td>\n",
       "      <td>0</td>\n",
       "      <td>0</td>\n",
       "    </tr>\n",
       "    <tr>\n",
       "      <th>1</th>\n",
       "      <td>Vitamin D status in pregnant Indian women acro...</td>\n",
       "      <td>The present cross-sectional study was conducte...</td>\n",
       "      <td>['Adult', 'Alkaline Phosphatase', 'Breast Feed...</td>\n",
       "      <td>21736816</td>\n",
       "      <td>[['M01.060.116'], ['D08.811.277.352.650.035'],...</td>\n",
       "      <td>['Named Groups [M]', 'Chemicals and Drugs [D]'...</td>\n",
       "      <td>0</td>\n",
       "      <td>1</td>\n",
       "      <td>1</td>\n",
       "      <td>1</td>\n",
       "      <td>1</td>\n",
       "      <td>1</td>\n",
       "      <td>1</td>\n",
       "      <td>0</td>\n",
       "      <td>1</td>\n",
       "      <td>1</td>\n",
       "      <td>0</td>\n",
       "      <td>1</td>\n",
       "      <td>1</td>\n",
       "      <td>1</td>\n",
       "    </tr>\n",
       "    <tr>\n",
       "      <th>2</th>\n",
       "      <td>[Identification of a functionally important di...</td>\n",
       "      <td>The occurrence of individual amino acids and d...</td>\n",
       "      <td>['Amino Acid Sequence', 'Analgesics, Opioid', ...</td>\n",
       "      <td>19060934</td>\n",
       "      <td>[['G02.111.570.060', 'L01.453.245.667.060'], [...</td>\n",
       "      <td>['Phenomena and Processes [G]', 'Information S...</td>\n",
       "      <td>1</td>\n",
       "      <td>1</td>\n",
       "      <td>0</td>\n",
       "      <td>1</td>\n",
       "      <td>1</td>\n",
       "      <td>0</td>\n",
       "      <td>1</td>\n",
       "      <td>0</td>\n",
       "      <td>0</td>\n",
       "      <td>0</td>\n",
       "      <td>1</td>\n",
       "      <td>0</td>\n",
       "      <td>0</td>\n",
       "      <td>0</td>\n",
       "    </tr>\n",
       "    <tr>\n",
       "      <th>3</th>\n",
       "      <td>Multilayer capsules: a promising microencapsul...</td>\n",
       "      <td>In 1980, Lim and Sun introduced a microcapsule...</td>\n",
       "      <td>['Acrylic Resins', 'Alginates', 'Animals', 'Bi...</td>\n",
       "      <td>11426874</td>\n",
       "      <td>[['D05.750.716.822.111', 'D25.720.716.822.111'...</td>\n",
       "      <td>['Chemicals and Drugs [D]', 'Technology, Indus...</td>\n",
       "      <td>1</td>\n",
       "      <td>1</td>\n",
       "      <td>1</td>\n",
       "      <td>1</td>\n",
       "      <td>1</td>\n",
       "      <td>0</td>\n",
       "      <td>1</td>\n",
       "      <td>0</td>\n",
       "      <td>0</td>\n",
       "      <td>1</td>\n",
       "      <td>0</td>\n",
       "      <td>0</td>\n",
       "      <td>0</td>\n",
       "      <td>0</td>\n",
       "    </tr>\n",
       "    <tr>\n",
       "      <th>4</th>\n",
       "      <td>Nanohydrogel with N,N'-bis(acryloyl)cystine cr...</td>\n",
       "      <td>Substantially improved hydrogel particles base...</td>\n",
       "      <td>['Antineoplastic Agents', 'Cell Proliferation'...</td>\n",
       "      <td>28323099</td>\n",
       "      <td>[['D27.505.954.248'], ['G04.161.750', 'G07.345...</td>\n",
       "      <td>['Chemicals and Drugs [D]', 'Phenomena and Pro...</td>\n",
       "      <td>1</td>\n",
       "      <td>1</td>\n",
       "      <td>0</td>\n",
       "      <td>1</td>\n",
       "      <td>1</td>\n",
       "      <td>0</td>\n",
       "      <td>1</td>\n",
       "      <td>0</td>\n",
       "      <td>0</td>\n",
       "      <td>1</td>\n",
       "      <td>0</td>\n",
       "      <td>0</td>\n",
       "      <td>0</td>\n",
       "      <td>0</td>\n",
       "    </tr>\n",
       "    <tr>\n",
       "      <th>...</th>\n",
       "      <td>...</td>\n",
       "      <td>...</td>\n",
       "      <td>...</td>\n",
       "      <td>...</td>\n",
       "      <td>...</td>\n",
       "      <td>...</td>\n",
       "      <td>...</td>\n",
       "      <td>...</td>\n",
       "      <td>...</td>\n",
       "      <td>...</td>\n",
       "      <td>...</td>\n",
       "      <td>...</td>\n",
       "      <td>...</td>\n",
       "      <td>...</td>\n",
       "      <td>...</td>\n",
       "      <td>...</td>\n",
       "      <td>...</td>\n",
       "      <td>...</td>\n",
       "      <td>...</td>\n",
       "      <td>...</td>\n",
       "    </tr>\n",
       "    <tr>\n",
       "      <th>95</th>\n",
       "      <td>Diagnosis of myeloproliferative disease by ana...</td>\n",
       "      <td>Analysis of platelet volume distribution curve...</td>\n",
       "      <td>['Acute Disease', 'Aged', 'Aging', 'Clone Cell...</td>\n",
       "      <td>6794355</td>\n",
       "      <td>[['C23.550.291.125'], ['M01.060.116.100'], ['G...</td>\n",
       "      <td>['Diseases [C]', 'Named Groups [M]', 'Phenomen...</td>\n",
       "      <td>1</td>\n",
       "      <td>1</td>\n",
       "      <td>1</td>\n",
       "      <td>1</td>\n",
       "      <td>1</td>\n",
       "      <td>0</td>\n",
       "      <td>1</td>\n",
       "      <td>0</td>\n",
       "      <td>0</td>\n",
       "      <td>0</td>\n",
       "      <td>0</td>\n",
       "      <td>1</td>\n",
       "      <td>0</td>\n",
       "      <td>0</td>\n",
       "    </tr>\n",
       "    <tr>\n",
       "      <th>96</th>\n",
       "      <td>Finite difference modelling of the temperature...</td>\n",
       "      <td>Non-linear propagation of ultrasound can lead ...</td>\n",
       "      <td>['Acoustics', 'Models, Theoretical', 'Nonlinea...</td>\n",
       "      <td>10829673</td>\n",
       "      <td>[['H01.671.031'], ['E05.599'], ['E05.599.850',...</td>\n",
       "      <td>['Disciplines and Occupations [H]', 'Analytica...</td>\n",
       "      <td>1</td>\n",
       "      <td>0</td>\n",
       "      <td>0</td>\n",
       "      <td>0</td>\n",
       "      <td>1</td>\n",
       "      <td>0</td>\n",
       "      <td>1</td>\n",
       "      <td>1</td>\n",
       "      <td>0</td>\n",
       "      <td>0</td>\n",
       "      <td>0</td>\n",
       "      <td>0</td>\n",
       "      <td>0</td>\n",
       "      <td>0</td>\n",
       "    </tr>\n",
       "    <tr>\n",
       "      <th>97</th>\n",
       "      <td>Men's sexual response to female partner's intr...</td>\n",
       "      <td>OBJECTIVE: To study sexual function, quality o...</td>\n",
       "      <td>['Academic Medical Centers', 'Administration, ...</td>\n",
       "      <td>28189292</td>\n",
       "      <td>[['N02.278.020'], ['E02.319.267.050'], ['Z01.5...</td>\n",
       "      <td>['Health Care [N]', 'Analytical, Diagnostic an...</td>\n",
       "      <td>0</td>\n",
       "      <td>1</td>\n",
       "      <td>0</td>\n",
       "      <td>1</td>\n",
       "      <td>1</td>\n",
       "      <td>1</td>\n",
       "      <td>1</td>\n",
       "      <td>0</td>\n",
       "      <td>1</td>\n",
       "      <td>0</td>\n",
       "      <td>0</td>\n",
       "      <td>1</td>\n",
       "      <td>1</td>\n",
       "      <td>1</td>\n",
       "    </tr>\n",
       "    <tr>\n",
       "      <th>98</th>\n",
       "      <td>A serum factor stimulating cathepsin D-release...</td>\n",
       "      <td>A serum factor preparation extensively purifie...</td>\n",
       "      <td>['Animals', 'Calcium', 'Calmodulin', 'Cathepsi...</td>\n",
       "      <td>6368282</td>\n",
       "      <td>[['B01.050'], ['D01.268.552.100', 'D01.552.539...</td>\n",
       "      <td>['Organisms [B]', 'Chemicals and Drugs [D]', '...</td>\n",
       "      <td>1</td>\n",
       "      <td>1</td>\n",
       "      <td>0</td>\n",
       "      <td>1</td>\n",
       "      <td>1</td>\n",
       "      <td>0</td>\n",
       "      <td>0</td>\n",
       "      <td>0</td>\n",
       "      <td>0</td>\n",
       "      <td>0</td>\n",
       "      <td>0</td>\n",
       "      <td>0</td>\n",
       "      <td>0</td>\n",
       "      <td>0</td>\n",
       "    </tr>\n",
       "    <tr>\n",
       "      <th>99</th>\n",
       "      <td>Mitochondrial Lon protease is a human stress p...</td>\n",
       "      <td>The targeted removal of damaged proteins by pr...</td>\n",
       "      <td>['Aging', 'Cell Line, Tumor', 'Cell Proliferat...</td>\n",
       "      <td>19439239</td>\n",
       "      <td>[['G07.345.124'], ['A11.251.210.190', 'A11.251...</td>\n",
       "      <td>['Phenomena and Processes [G]', 'Anatomy [A]',...</td>\n",
       "      <td>1</td>\n",
       "      <td>1</td>\n",
       "      <td>0</td>\n",
       "      <td>1</td>\n",
       "      <td>1</td>\n",
       "      <td>0</td>\n",
       "      <td>1</td>\n",
       "      <td>0</td>\n",
       "      <td>0</td>\n",
       "      <td>0</td>\n",
       "      <td>0</td>\n",
       "      <td>0</td>\n",
       "      <td>1</td>\n",
       "      <td>0</td>\n",
       "    </tr>\n",
       "  </tbody>\n",
       "</table>\n",
       "<p>100 rows × 20 columns</p>\n",
       "</div>"
      ]
     },
     "execution_count": 38,
     "metadata": {},
     "output_type": "execute_result"
    }
   ],
   "execution_count": 38
  },
  {
   "metadata": {
    "ExecuteTime": {
     "end_time": "2025-01-02T12:00:09.410424Z",
     "start_time": "2025-01-02T12:00:09.388304Z"
    }
   },
   "cell_type": "code",
   "source": "df.info()",
   "id": "5460295cef8c86c4",
   "outputs": [
    {
     "name": "stdout",
     "output_type": "stream",
     "text": [
      "<class 'pandas.core.frame.DataFrame'>\n",
      "RangeIndex: 100 entries, 0 to 99\n",
      "Data columns (total 21 columns):\n",
      " #   Column        Non-Null Count  Dtype \n",
      "---  ------        --------------  ----- \n",
      " 0   Title         100 non-null    object\n",
      " 1   abstractText  100 non-null    object\n",
      " 2   meshMajor     100 non-null    object\n",
      " 3   pmid          100 non-null    int64 \n",
      " 4   meshid        100 non-null    object\n",
      " 5   meshroot      100 non-null    object\n",
      " 6   A             100 non-null    int64 \n",
      " 7   B             100 non-null    int64 \n",
      " 8   C             100 non-null    int64 \n",
      " 9   D             100 non-null    int64 \n",
      " 10  E             100 non-null    int64 \n",
      " 11  F             100 non-null    int64 \n",
      " 12  G             100 non-null    int64 \n",
      " 13  H             100 non-null    int64 \n",
      " 14  I             100 non-null    int64 \n",
      " 15  J             100 non-null    int64 \n",
      " 16  L             100 non-null    int64 \n",
      " 17  M             100 non-null    int64 \n",
      " 18  N             100 non-null    int64 \n",
      " 19  Z             100 non-null    int64 \n",
      " 20  Article_URI   100 non-null    object\n",
      "dtypes: int64(15), object(6)\n",
      "memory usage: 16.5+ KB\n"
     ]
    }
   ],
   "execution_count": 55
  },
  {
   "metadata": {
    "ExecuteTime": {
     "end_time": "2025-01-02T11:37:37.166776Z",
     "start_time": "2025-01-02T11:37:37.132938Z"
    }
   },
   "cell_type": "code",
   "source": [
    "import numpy as np\n",
    "\n",
    "# Replace infinity values with NaN and then fill NaN values\n",
    "df.replace([np.inf, -np.inf], np.nan, inplace=True)\n",
    "df.fillna('', inplace=True)\n",
    "\n",
    "# Convert columns to a string type\n",
    "df['Title'] = df['Title'].astype(str)\n",
    "df['abstractText'] = df['abstractText'].astype(str)\n",
    "df['meshMajor'] = df['meshMajor'].astype(str)"
   ],
   "id": "b5a7f614c90984b7",
   "outputs": [],
   "execution_count": 39
  },
  {
   "metadata": {
    "ExecuteTime": {
     "end_time": "2025-01-02T11:37:42.686921Z",
     "start_time": "2025-01-02T11:37:42.668127Z"
    }
   },
   "cell_type": "code",
   "source": [
    "import numpy as np\n",
    "import re\n",
    "from urllib.parse import quote\n",
    "\n",
    "# Replace infinity values with NaN and then fill NaN values\n",
    "df.replace([np.inf, -np.inf], np.nan, inplace=True)\n",
    "df.fillna('', inplace=True)\n",
    "\n",
    "# Convert columns to a string type\n",
    "df['Title'] = df['Title'].astype(str)\n",
    "df['abstractText'] = df['abstractText'].astype(str)\n",
    "df['meshMajor'] = df['meshMajor'].astype(str)\n",
    "\n",
    "import urllib.parse\n",
    "from rdflib import Graph, RDF, RDFS, Namespace, URIRef, Literal\n",
    "\n",
    "\n",
    "# Function to create a valid URI\n",
    "def create_valid_uri(base_uri, text):\n",
    "    if pd.isna(text):\n",
    "        return None\n",
    "    # Encode text to be used in URI\n",
    "    sanitized_text = urllib.parse.quote(\n",
    "        text.strip().replace(' ', '_').replace('\"', '').replace('<', '').replace('>', '').replace(\"'\", \"_\"))\n",
    "    return URIRef(f\"{base_uri}/{sanitized_text}\")\n",
    "\n",
    "\n",
    "# Function to create a valid URI for Articles\n",
    "def create_article_uri(title, base_namespace=\"http://example.org/article/\"):\n",
    "    \"\"\"\n",
    "    Creates a URI for an article by replacing non-word characters with underscores and URL-encoding.\n",
    "\n",
    "    Args:\n",
    "        title (str): The title of the article.\n",
    "        base_namespace (str): The base namespace for the article URI.\n",
    "\n",
    "    Returns:\n",
    "        URIRef: The formatted article URI.\n",
    "    \"\"\"\n",
    "    if pd.isna(title):\n",
    "        return None\n",
    "    # Replace non-word characters with underscores\n",
    "    sanitized_title = re.sub(r'\\W+', '_', title.strip())\n",
    "    # Condense multiple underscores into a single underscore\n",
    "    sanitized_title = re.sub(r'_+', '_', sanitized_title)\n",
    "    # URL-encode the term\n",
    "    encoded_title = quote(sanitized_title)\n",
    "    # Concatenate with base_namespace without adding underscores\n",
    "    uri = f\"{base_namespace}{encoded_title}\"\n",
    "    return URIRef(uri)\n",
    "\n",
    "\n",
    "# Add a new column to the DataFrame for the article URIs\n",
    "df['Article_URI'] = df['Title'].apply(lambda title: create_valid_uri(\"http://example.org/article\", title))"
   ],
   "id": "9d323a611326d9f6",
   "outputs": [],
   "execution_count": 40
  },
  {
   "metadata": {
    "ExecuteTime": {
     "end_time": "2025-01-02T11:37:50.303418Z",
     "start_time": "2025-01-02T11:37:50.289387Z"
    }
   },
   "cell_type": "code",
   "source": [
    "# Function to clean and parse MeSH terms\n",
    "def parse_mesh_terms(mesh_list):\n",
    "    if pd.isna(mesh_list):\n",
    "        return []\n",
    "    return [\n",
    "        term.strip().replace(' ', '_')\n",
    "        for term in mesh_list.strip(\"[]'\").split(',')\n",
    "    ]\n",
    "\n",
    "\n",
    "# Function to create a valid URI for MeSH terms\n",
    "def create_valid_uri(base_uri, text):\n",
    "    if pd.isna(text):\n",
    "        return None\n",
    "    sanitized_text = urllib.parse.quote(\n",
    "        text.strip()\n",
    "        .replace(' ', '_')\n",
    "        .replace('\"', '')\n",
    "        .replace('<', '')\n",
    "        .replace('>', '')\n",
    "        .replace(\"'\", \"_\")\n",
    "    )\n",
    "    return f\"{base_uri}/{sanitized_text}\"\n",
    "\n",
    "\n",
    "# Extract and process all MeSH terms\n",
    "all_mesh_terms = []\n",
    "for mesh_list in df[\"meshMajor\"]:\n",
    "    all_mesh_terms.extend(parse_mesh_terms(mesh_list))\n",
    "\n",
    "# Deduplicate terms\n",
    "unique_mesh_terms = list(set(all_mesh_terms))\n",
    "\n",
    "# Create a DataFrame of MeSH terms and their URIs\n",
    "mesh_df = pd.DataFrame({\n",
    "    \"meshTerm\": unique_mesh_terms,\n",
    "    \"URI\": [create_valid_uri(\"http://example.org/mesh\", term) for term in unique_mesh_terms]\n",
    "})\n",
    "\n",
    "# Display the DataFrame\n",
    "print(mesh_df)"
   ],
   "id": "d6ec05857645ad52",
   "outputs": [
    {
     "name": "stdout",
     "output_type": "stream",
     "text": [
      "                              meshTerm  \\\n",
      "0                    'Phenanthrolines'   \n",
      "1                  'Basement_Membrane'   \n",
      "2                      'United_States'   \n",
      "3                     'Thionucleotides   \n",
      "4                       Absorptiometry   \n",
      "..                                 ...   \n",
      "980  'Corticotropin-Releasing_Hormone'   \n",
      "981            'Splanchnic_Circulation   \n",
      "982                          Ribosomal   \n",
      "983               'Oxygen_Consumption'   \n",
      "984                  'Pyramidal_Cells'   \n",
      "\n",
      "                                                   URI  \n",
      "0            http://example.org/mesh/_Phenanthrolines_  \n",
      "1          http://example.org/mesh/_Basement_Membrane_  \n",
      "2              http://example.org/mesh/_United_States_  \n",
      "3             http://example.org/mesh/_Thionucleotides  \n",
      "4               http://example.org/mesh/Absorptiometry  \n",
      "..                                                 ...  \n",
      "980  http://example.org/mesh/_Corticotropin-Releasi...  \n",
      "981    http://example.org/mesh/_Splanchnic_Circulation  \n",
      "982                  http://example.org/mesh/Ribosomal  \n",
      "983       http://example.org/mesh/_Oxygen_Consumption_  \n",
      "984          http://example.org/mesh/_Pyramidal_Cells_  \n",
      "\n",
      "[985 rows x 2 columns]\n"
     ]
    }
   ],
   "execution_count": 41
  },
  {
   "metadata": {
    "ExecuteTime": {
     "end_time": "2025-01-02T11:38:06.135415Z",
     "start_time": "2025-01-02T11:38:03.670850Z"
    }
   },
   "cell_type": "code",
   "source": [
    "from weaviate.classes.config import Configure\n",
    "\n",
    "#define the collection\n",
    "articles = client.collections.create(\n",
    "    name=\"Article\",\n",
    "    vectorizer_config=Configure.Vectorizer.text2vec_openai(),\n",
    "    # If set to \"none\" you must always provide vectors yourself. Could be any other \"text2vec-*\" also.\n",
    "    generative_config=Configure.Generative.openai(),\n",
    "    # Ensure the `generative-openai` module is used for generative queries\n",
    ")"
   ],
   "id": "e11ea4e95bac0445",
   "outputs": [
    {
     "ename": "UnexpectedStatusCodeError",
     "evalue": "Collection may not have been created properly.! Unexpected status code: 422, with response body: {'error': [{'message': 'class name Article already exists'}]}.",
     "output_type": "error",
     "traceback": [
      "\u001B[1;31m---------------------------------------------------------------------------\u001B[0m",
      "\u001B[1;31mUnexpectedStatusCodeError\u001B[0m                 Traceback (most recent call last)",
      "Cell \u001B[1;32mIn[42], line 4\u001B[0m\n\u001B[0;32m      1\u001B[0m \u001B[38;5;28;01mfrom\u001B[39;00m \u001B[38;5;21;01mweaviate\u001B[39;00m\u001B[38;5;21;01m.\u001B[39;00m\u001B[38;5;21;01mclasses\u001B[39;00m\u001B[38;5;21;01m.\u001B[39;00m\u001B[38;5;21;01mconfig\u001B[39;00m \u001B[38;5;28;01mimport\u001B[39;00m Configure\n\u001B[0;32m      3\u001B[0m \u001B[38;5;66;03m#define the collection\u001B[39;00m\n\u001B[1;32m----> 4\u001B[0m articles \u001B[38;5;241m=\u001B[39m \u001B[43mclient\u001B[49m\u001B[38;5;241;43m.\u001B[39;49m\u001B[43mcollections\u001B[49m\u001B[38;5;241;43m.\u001B[39;49m\u001B[43mcreate\u001B[49m\u001B[43m(\u001B[49m\n\u001B[0;32m      5\u001B[0m \u001B[43m    \u001B[49m\u001B[43mname\u001B[49m\u001B[38;5;241;43m=\u001B[39;49m\u001B[38;5;124;43m\"\u001B[39;49m\u001B[38;5;124;43mArticle\u001B[39;49m\u001B[38;5;124;43m\"\u001B[39;49m\u001B[43m,\u001B[49m\n\u001B[0;32m      6\u001B[0m \u001B[43m    \u001B[49m\u001B[43mvectorizer_config\u001B[49m\u001B[38;5;241;43m=\u001B[39;49m\u001B[43mConfigure\u001B[49m\u001B[38;5;241;43m.\u001B[39;49m\u001B[43mVectorizer\u001B[49m\u001B[38;5;241;43m.\u001B[39;49m\u001B[43mtext2vec_openai\u001B[49m\u001B[43m(\u001B[49m\u001B[43m)\u001B[49m\u001B[43m,\u001B[49m\n\u001B[0;32m      7\u001B[0m \u001B[43m    \u001B[49m\u001B[38;5;66;43;03m# If set to \"none\" you must always provide vectors yourself. Could be any other \"text2vec-*\" also.\u001B[39;49;00m\n\u001B[0;32m      8\u001B[0m \u001B[43m    \u001B[49m\u001B[43mgenerative_config\u001B[49m\u001B[38;5;241;43m=\u001B[39;49m\u001B[43mConfigure\u001B[49m\u001B[38;5;241;43m.\u001B[39;49m\u001B[43mGenerative\u001B[49m\u001B[38;5;241;43m.\u001B[39;49m\u001B[43mopenai\u001B[49m\u001B[43m(\u001B[49m\u001B[43m)\u001B[49m\u001B[43m,\u001B[49m\n\u001B[0;32m      9\u001B[0m \u001B[43m    \u001B[49m\u001B[38;5;66;43;03m# Ensure the `generative-openai` module is used for generative queries\u001B[39;49;00m\n\u001B[0;32m     10\u001B[0m \u001B[43m)\u001B[49m\n",
      "File \u001B[1;32m~\\PycharmProjects\\GraphRAG\\.venv\\Lib\\site-packages\\weaviate\\collections\\collections\\sync.py:107\u001B[0m, in \u001B[0;36m_Collections.create\u001B[1;34m(self, name, description, generative_config, inverted_index_config, multi_tenancy_config, properties, references, replication_config, reranker_config, sharding_config, vector_index_config, vectorizer_config, data_model_properties, data_model_references, skip_argument_validation)\u001B[0m\n\u001B[0;32m     36\u001B[0m \u001B[38;5;28;01mdef\u001B[39;00m \u001B[38;5;21mcreate\u001B[39m(\n\u001B[0;32m     37\u001B[0m     \u001B[38;5;28mself\u001B[39m,\n\u001B[0;32m     38\u001B[0m     name: \u001B[38;5;28mstr\u001B[39m,\n\u001B[1;32m   (...)\u001B[0m\n\u001B[0;32m     55\u001B[0m     skip_argument_validation: \u001B[38;5;28mbool\u001B[39m \u001B[38;5;241m=\u001B[39m \u001B[38;5;28;01mFalse\u001B[39;00m,\n\u001B[0;32m     56\u001B[0m ) \u001B[38;5;241m-\u001B[39m\u001B[38;5;241m>\u001B[39m Collection[Properties, References]:\n\u001B[0;32m     57\u001B[0m \u001B[38;5;250m    \u001B[39m\u001B[38;5;124;03m\"\"\"Use this method to create a collection in Weaviate and immediately return a collection object.\u001B[39;00m\n\u001B[0;32m     58\u001B[0m \n\u001B[0;32m     59\u001B[0m \u001B[38;5;124;03m    This method takes several arguments that allow you to configure the collection to your liking. Each argument\u001B[39;00m\n\u001B[1;32m   (...)\u001B[0m\n\u001B[0;32m    105\u001B[0m \u001B[38;5;124;03m            If Weaviate reports a non-OK status.\u001B[39;00m\n\u001B[0;32m    106\u001B[0m \u001B[38;5;124;03m    \"\"\"\u001B[39;00m\n\u001B[1;32m--> 107\u001B[0m     \u001B[38;5;28;43mself\u001B[39;49m\u001B[38;5;241;43m.\u001B[39;49m\u001B[43m__loop\u001B[49m\u001B[38;5;241;43m.\u001B[39;49m\u001B[43mrun_until_complete\u001B[49m\u001B[43m(\u001B[49m\n\u001B[0;32m    108\u001B[0m \u001B[43m        \u001B[49m\u001B[38;5;28;43mself\u001B[39;49m\u001B[38;5;241;43m.\u001B[39;49m\u001B[43m__collections\u001B[49m\u001B[38;5;241;43m.\u001B[39;49m\u001B[43mcreate\u001B[49m\u001B[43m,\u001B[49m\n\u001B[0;32m    109\u001B[0m \u001B[43m        \u001B[49m\u001B[43mname\u001B[49m\u001B[43m,\u001B[49m\n\u001B[0;32m    110\u001B[0m \u001B[43m        \u001B[49m\u001B[43mdescription\u001B[49m\u001B[38;5;241;43m=\u001B[39;49m\u001B[43mdescription\u001B[49m\u001B[43m,\u001B[49m\n\u001B[0;32m    111\u001B[0m \u001B[43m        \u001B[49m\u001B[43mgenerative_config\u001B[49m\u001B[38;5;241;43m=\u001B[39;49m\u001B[43mgenerative_config\u001B[49m\u001B[43m,\u001B[49m\n\u001B[0;32m    112\u001B[0m \u001B[43m        \u001B[49m\u001B[43minverted_index_config\u001B[49m\u001B[38;5;241;43m=\u001B[39;49m\u001B[43minverted_index_config\u001B[49m\u001B[43m,\u001B[49m\n\u001B[0;32m    113\u001B[0m \u001B[43m        \u001B[49m\u001B[43mmulti_tenancy_config\u001B[49m\u001B[38;5;241;43m=\u001B[39;49m\u001B[43mmulti_tenancy_config\u001B[49m\u001B[43m,\u001B[49m\n\u001B[0;32m    114\u001B[0m \u001B[43m        \u001B[49m\u001B[43mproperties\u001B[49m\u001B[38;5;241;43m=\u001B[39;49m\u001B[43mproperties\u001B[49m\u001B[43m,\u001B[49m\n\u001B[0;32m    115\u001B[0m \u001B[43m        \u001B[49m\u001B[43mreferences\u001B[49m\u001B[38;5;241;43m=\u001B[39;49m\u001B[43mreferences\u001B[49m\u001B[43m,\u001B[49m\n\u001B[0;32m    116\u001B[0m \u001B[43m        \u001B[49m\u001B[43mreplication_config\u001B[49m\u001B[38;5;241;43m=\u001B[39;49m\u001B[43mreplication_config\u001B[49m\u001B[43m,\u001B[49m\n\u001B[0;32m    117\u001B[0m \u001B[43m        \u001B[49m\u001B[43mreranker_config\u001B[49m\u001B[38;5;241;43m=\u001B[39;49m\u001B[43mreranker_config\u001B[49m\u001B[43m,\u001B[49m\n\u001B[0;32m    118\u001B[0m \u001B[43m        \u001B[49m\u001B[43msharding_config\u001B[49m\u001B[38;5;241;43m=\u001B[39;49m\u001B[43msharding_config\u001B[49m\u001B[43m,\u001B[49m\n\u001B[0;32m    119\u001B[0m \u001B[43m        \u001B[49m\u001B[43mvector_index_config\u001B[49m\u001B[38;5;241;43m=\u001B[39;49m\u001B[43mvector_index_config\u001B[49m\u001B[43m,\u001B[49m\n\u001B[0;32m    120\u001B[0m \u001B[43m        \u001B[49m\u001B[43mvectorizer_config\u001B[49m\u001B[38;5;241;43m=\u001B[39;49m\u001B[43mvectorizer_config\u001B[49m\u001B[43m,\u001B[49m\n\u001B[0;32m    121\u001B[0m \u001B[43m        \u001B[49m\u001B[43mdata_model_properties\u001B[49m\u001B[38;5;241;43m=\u001B[39;49m\u001B[43mdata_model_properties\u001B[49m\u001B[43m,\u001B[49m\n\u001B[0;32m    122\u001B[0m \u001B[43m        \u001B[49m\u001B[43mdata_model_references\u001B[49m\u001B[38;5;241;43m=\u001B[39;49m\u001B[43mdata_model_references\u001B[49m\u001B[43m,\u001B[49m\n\u001B[0;32m    123\u001B[0m \u001B[43m        \u001B[49m\u001B[43mskip_argument_validation\u001B[49m\u001B[38;5;241;43m=\u001B[39;49m\u001B[43mskip_argument_validation\u001B[49m\u001B[43m,\u001B[49m\n\u001B[0;32m    124\u001B[0m \u001B[43m    \u001B[49m\u001B[43m)\u001B[49m\n\u001B[0;32m    125\u001B[0m     \u001B[38;5;28;01mreturn\u001B[39;00m \u001B[38;5;28mself\u001B[39m\u001B[38;5;241m.\u001B[39mget(\n\u001B[0;32m    126\u001B[0m         name,\n\u001B[0;32m    127\u001B[0m         data_model_properties\u001B[38;5;241m=\u001B[39mdata_model_properties,\n\u001B[0;32m    128\u001B[0m         data_model_references\u001B[38;5;241m=\u001B[39mdata_model_references,\n\u001B[0;32m    129\u001B[0m         skip_argument_validation\u001B[38;5;241m=\u001B[39mskip_argument_validation,\n\u001B[0;32m    130\u001B[0m     )\n",
      "File \u001B[1;32m~\\PycharmProjects\\GraphRAG\\.venv\\Lib\\site-packages\\weaviate\\event_loop.py:42\u001B[0m, in \u001B[0;36m_EventLoop.run_until_complete\u001B[1;34m(self, f, *args, **kwargs)\u001B[0m\n\u001B[0;32m     40\u001B[0m     \u001B[38;5;28;01mraise\u001B[39;00m WeaviateClosedClientError()\n\u001B[0;32m     41\u001B[0m fut \u001B[38;5;241m=\u001B[39m asyncio\u001B[38;5;241m.\u001B[39mrun_coroutine_threadsafe(f(\u001B[38;5;241m*\u001B[39margs, \u001B[38;5;241m*\u001B[39m\u001B[38;5;241m*\u001B[39mkwargs), \u001B[38;5;28mself\u001B[39m\u001B[38;5;241m.\u001B[39mloop)\n\u001B[1;32m---> 42\u001B[0m \u001B[38;5;28;01mreturn\u001B[39;00m \u001B[43mfut\u001B[49m\u001B[38;5;241;43m.\u001B[39;49m\u001B[43mresult\u001B[49m\u001B[43m(\u001B[49m\u001B[43m)\u001B[49m\n",
      "File \u001B[1;32m~\\AppData\\Local\\Programs\\Python\\Python312\\Lib\\concurrent\\futures\\_base.py:456\u001B[0m, in \u001B[0;36mFuture.result\u001B[1;34m(self, timeout)\u001B[0m\n\u001B[0;32m    454\u001B[0m     \u001B[38;5;28;01mraise\u001B[39;00m CancelledError()\n\u001B[0;32m    455\u001B[0m \u001B[38;5;28;01melif\u001B[39;00m \u001B[38;5;28mself\u001B[39m\u001B[38;5;241m.\u001B[39m_state \u001B[38;5;241m==\u001B[39m FINISHED:\n\u001B[1;32m--> 456\u001B[0m     \u001B[38;5;28;01mreturn\u001B[39;00m \u001B[38;5;28;43mself\u001B[39;49m\u001B[38;5;241;43m.\u001B[39;49m\u001B[43m__get_result\u001B[49m\u001B[43m(\u001B[49m\u001B[43m)\u001B[49m\n\u001B[0;32m    457\u001B[0m \u001B[38;5;28;01melse\u001B[39;00m:\n\u001B[0;32m    458\u001B[0m     \u001B[38;5;28;01mraise\u001B[39;00m \u001B[38;5;167;01mTimeoutError\u001B[39;00m()\n",
      "File \u001B[1;32m~\\AppData\\Local\\Programs\\Python\\Python312\\Lib\\concurrent\\futures\\_base.py:401\u001B[0m, in \u001B[0;36mFuture.__get_result\u001B[1;34m(self)\u001B[0m\n\u001B[0;32m    399\u001B[0m \u001B[38;5;28;01mif\u001B[39;00m \u001B[38;5;28mself\u001B[39m\u001B[38;5;241m.\u001B[39m_exception:\n\u001B[0;32m    400\u001B[0m     \u001B[38;5;28;01mtry\u001B[39;00m:\n\u001B[1;32m--> 401\u001B[0m         \u001B[38;5;28;01mraise\u001B[39;00m \u001B[38;5;28mself\u001B[39m\u001B[38;5;241m.\u001B[39m_exception\n\u001B[0;32m    402\u001B[0m     \u001B[38;5;28;01mfinally\u001B[39;00m:\n\u001B[0;32m    403\u001B[0m         \u001B[38;5;66;03m# Break a reference cycle with the exception in self._exception\u001B[39;00m\n\u001B[0;32m    404\u001B[0m         \u001B[38;5;28mself\u001B[39m \u001B[38;5;241m=\u001B[39m \u001B[38;5;28;01mNone\u001B[39;00m\n",
      "File \u001B[1;32m~\\PycharmProjects\\GraphRAG\\.venv\\Lib\\site-packages\\weaviate\\collections\\collections\\async_.py:134\u001B[0m, in \u001B[0;36m_CollectionsAsync.create\u001B[1;34m(self, name, description, generative_config, inverted_index_config, multi_tenancy_config, properties, references, replication_config, reranker_config, sharding_config, vector_index_config, vectorizer_config, data_model_properties, data_model_references, skip_argument_validation)\u001B[0m\n\u001B[0;32m    130\u001B[0m \u001B[38;5;28;01mexcept\u001B[39;00m ValidationError \u001B[38;5;28;01mas\u001B[39;00m e:\n\u001B[0;32m    131\u001B[0m     \u001B[38;5;28;01mraise\u001B[39;00m WeaviateInvalidInputError(\n\u001B[0;32m    132\u001B[0m         \u001B[38;5;124mf\u001B[39m\u001B[38;5;124m\"\u001B[39m\u001B[38;5;124mInvalid collection config create parameters: \u001B[39m\u001B[38;5;132;01m{\u001B[39;00me\u001B[38;5;132;01m}\u001B[39;00m\u001B[38;5;124m\"\u001B[39m\n\u001B[0;32m    133\u001B[0m     ) \u001B[38;5;28;01mfrom\u001B[39;00m \u001B[38;5;21;01me\u001B[39;00m\n\u001B[1;32m--> 134\u001B[0m name \u001B[38;5;241m=\u001B[39m \u001B[38;5;28;01mawait\u001B[39;00m \u001B[38;5;28msuper\u001B[39m()\u001B[38;5;241m.\u001B[39m_create(config\u001B[38;5;241m.\u001B[39m_to_dict())\n\u001B[0;32m    135\u001B[0m \u001B[38;5;28;01massert\u001B[39;00m (\n\u001B[0;32m    136\u001B[0m     config\u001B[38;5;241m.\u001B[39mname \u001B[38;5;241m==\u001B[39m name\n\u001B[0;32m    137\u001B[0m ), \u001B[38;5;124mf\u001B[39m\u001B[38;5;124m\"\u001B[39m\u001B[38;5;124mName of created collection (\u001B[39m\u001B[38;5;132;01m{\u001B[39;00mname\u001B[38;5;132;01m}\u001B[39;00m\u001B[38;5;124m) does not match given name (\u001B[39m\u001B[38;5;132;01m{\u001B[39;00mconfig\u001B[38;5;241m.\u001B[39mname\u001B[38;5;132;01m}\u001B[39;00m\u001B[38;5;124m)\u001B[39m\u001B[38;5;124m\"\u001B[39m\n\u001B[0;32m    138\u001B[0m \u001B[38;5;28;01mreturn\u001B[39;00m \u001B[38;5;28mself\u001B[39m\u001B[38;5;241m.\u001B[39mget(\n\u001B[0;32m    139\u001B[0m     name,\n\u001B[0;32m    140\u001B[0m     data_model_properties,\n\u001B[0;32m    141\u001B[0m     data_model_references,\n\u001B[0;32m    142\u001B[0m     skip_argument_validation\u001B[38;5;241m=\u001B[39mskip_argument_validation,\n\u001B[0;32m    143\u001B[0m )\n",
      "File \u001B[1;32m~\\PycharmProjects\\GraphRAG\\.venv\\Lib\\site-packages\\weaviate\\collections\\collections\\base.py:27\u001B[0m, in \u001B[0;36m_CollectionsBase._create\u001B[1;34m(self, config)\u001B[0m\n\u001B[0;32m     23\u001B[0m \u001B[38;5;28;01masync\u001B[39;00m \u001B[38;5;28;01mdef\u001B[39;00m \u001B[38;5;21m_create\u001B[39m(\n\u001B[0;32m     24\u001B[0m     \u001B[38;5;28mself\u001B[39m,\n\u001B[0;32m     25\u001B[0m     config: \u001B[38;5;28mdict\u001B[39m,\n\u001B[0;32m     26\u001B[0m ) \u001B[38;5;241m-\u001B[39m\u001B[38;5;241m>\u001B[39m \u001B[38;5;28mstr\u001B[39m:\n\u001B[1;32m---> 27\u001B[0m     response \u001B[38;5;241m=\u001B[39m \u001B[38;5;28;01mawait\u001B[39;00m \u001B[38;5;28mself\u001B[39m\u001B[38;5;241m.\u001B[39m_connection\u001B[38;5;241m.\u001B[39mpost(\n\u001B[0;32m     28\u001B[0m         path\u001B[38;5;241m=\u001B[39m\u001B[38;5;124m\"\u001B[39m\u001B[38;5;124m/schema\u001B[39m\u001B[38;5;124m\"\u001B[39m,\n\u001B[0;32m     29\u001B[0m         weaviate_object\u001B[38;5;241m=\u001B[39mconfig,\n\u001B[0;32m     30\u001B[0m         error_msg\u001B[38;5;241m=\u001B[39m\u001B[38;5;124m\"\u001B[39m\u001B[38;5;124mCollection may not have been created properly.\u001B[39m\u001B[38;5;124m\"\u001B[39m,\n\u001B[0;32m     31\u001B[0m         status_codes\u001B[38;5;241m=\u001B[39m_ExpectedStatusCodes(ok_in\u001B[38;5;241m=\u001B[39m\u001B[38;5;241m200\u001B[39m, error\u001B[38;5;241m=\u001B[39m\u001B[38;5;124m\"\u001B[39m\u001B[38;5;124mCreate collection\u001B[39m\u001B[38;5;124m\"\u001B[39m),\n\u001B[0;32m     32\u001B[0m     )\n\u001B[0;32m     34\u001B[0m     collection_name \u001B[38;5;241m=\u001B[39m response\u001B[38;5;241m.\u001B[39mjson()[\u001B[38;5;124m\"\u001B[39m\u001B[38;5;124mclass\u001B[39m\u001B[38;5;124m\"\u001B[39m]\n\u001B[0;32m     35\u001B[0m     \u001B[38;5;28;01massert\u001B[39;00m \u001B[38;5;28misinstance\u001B[39m(collection_name, \u001B[38;5;28mstr\u001B[39m)\n",
      "File \u001B[1;32m~\\PycharmProjects\\GraphRAG\\.venv\\Lib\\site-packages\\weaviate\\connect\\v4.py:534\u001B[0m, in \u001B[0;36mConnectionV4.post\u001B[1;34m(self, path, weaviate_object, params, error_msg, status_codes, is_gql_query)\u001B[0m\n\u001B[0;32m    525\u001B[0m \u001B[38;5;28;01masync\u001B[39;00m \u001B[38;5;28;01mdef\u001B[39;00m \u001B[38;5;21mpost\u001B[39m(\n\u001B[0;32m    526\u001B[0m     \u001B[38;5;28mself\u001B[39m,\n\u001B[0;32m    527\u001B[0m     path: \u001B[38;5;28mstr\u001B[39m,\n\u001B[1;32m   (...)\u001B[0m\n\u001B[0;32m    532\u001B[0m     is_gql_query: \u001B[38;5;28mbool\u001B[39m \u001B[38;5;241m=\u001B[39m \u001B[38;5;28;01mFalse\u001B[39;00m,\n\u001B[0;32m    533\u001B[0m ) \u001B[38;5;241m-\u001B[39m\u001B[38;5;241m>\u001B[39m Response:\n\u001B[1;32m--> 534\u001B[0m     \u001B[38;5;28;01mreturn\u001B[39;00m \u001B[38;5;28;01mawait\u001B[39;00m \u001B[38;5;28mself\u001B[39m\u001B[38;5;241m.\u001B[39m__send(\n\u001B[0;32m    535\u001B[0m         \u001B[38;5;124m\"\u001B[39m\u001B[38;5;124mPOST\u001B[39m\u001B[38;5;124m\"\u001B[39m,\n\u001B[0;32m    536\u001B[0m         url\u001B[38;5;241m=\u001B[39m\u001B[38;5;28mself\u001B[39m\u001B[38;5;241m.\u001B[39murl \u001B[38;5;241m+\u001B[39m \u001B[38;5;28mself\u001B[39m\u001B[38;5;241m.\u001B[39m_api_version_path \u001B[38;5;241m+\u001B[39m path,\n\u001B[0;32m    537\u001B[0m         weaviate_object\u001B[38;5;241m=\u001B[39mweaviate_object,\n\u001B[0;32m    538\u001B[0m         params\u001B[38;5;241m=\u001B[39mparams,\n\u001B[0;32m    539\u001B[0m         error_msg\u001B[38;5;241m=\u001B[39merror_msg,\n\u001B[0;32m    540\u001B[0m         status_codes\u001B[38;5;241m=\u001B[39mstatus_codes,\n\u001B[0;32m    541\u001B[0m         is_gql_query\u001B[38;5;241m=\u001B[39mis_gql_query,\n\u001B[0;32m    542\u001B[0m     )\n",
      "File \u001B[1;32m~\\PycharmProjects\\GraphRAG\\.venv\\Lib\\site-packages\\weaviate\\connect\\v4.py:489\u001B[0m, in \u001B[0;36mConnectionV4.__send\u001B[1;34m(self, method, url, error_msg, status_codes, is_gql_query, weaviate_object, params)\u001B[0m\n\u001B[0;32m    487\u001B[0m     \u001B[38;5;28;01mraise\u001B[39;00m WeaviateTimeoutError(error_msg) \u001B[38;5;28;01mfrom\u001B[39;00m \u001B[38;5;21;01mread_err\u001B[39;00m\n\u001B[0;32m    488\u001B[0m \u001B[38;5;28;01mexcept\u001B[39;00m \u001B[38;5;167;01mException\u001B[39;00m \u001B[38;5;28;01mas\u001B[39;00m e:\n\u001B[1;32m--> 489\u001B[0m     \u001B[38;5;28;01mraise\u001B[39;00m e\n",
      "File \u001B[1;32m~\\PycharmProjects\\GraphRAG\\.venv\\Lib\\site-packages\\weaviate\\connect\\v4.py:480\u001B[0m, in \u001B[0;36mConnectionV4.__send\u001B[1;34m(self, method, url, error_msg, status_codes, is_gql_query, weaviate_object, params)\u001B[0m\n\u001B[0;32m    478\u001B[0m         \u001B[38;5;28;01mraise\u001B[39;00m InsufficientPermissionsError(res)\n\u001B[0;32m    479\u001B[0m     \u001B[38;5;28;01mif\u001B[39;00m status_codes \u001B[38;5;129;01mis\u001B[39;00m \u001B[38;5;129;01mnot\u001B[39;00m \u001B[38;5;28;01mNone\u001B[39;00m \u001B[38;5;129;01mand\u001B[39;00m res\u001B[38;5;241m.\u001B[39mstatus_code \u001B[38;5;129;01mnot\u001B[39;00m \u001B[38;5;129;01min\u001B[39;00m status_codes\u001B[38;5;241m.\u001B[39mok:\n\u001B[1;32m--> 480\u001B[0m         \u001B[38;5;28;01mraise\u001B[39;00m UnexpectedStatusCodeError(error_msg, response\u001B[38;5;241m=\u001B[39mres)\n\u001B[0;32m    481\u001B[0m     \u001B[38;5;28;01mreturn\u001B[39;00m cast(Response, res)\n\u001B[0;32m    482\u001B[0m \u001B[38;5;28;01mexcept\u001B[39;00m \u001B[38;5;167;01mRuntimeError\u001B[39;00m \u001B[38;5;28;01mas\u001B[39;00m e:\n",
      "\u001B[1;31mUnexpectedStatusCodeError\u001B[0m: Collection may not have been created properly.! Unexpected status code: 422, with response body: {'error': [{'message': 'class name Article already exists'}]}."
     ]
    }
   ],
   "execution_count": 42
  },
  {
   "metadata": {
    "ExecuteTime": {
     "end_time": "2025-01-02T11:38:13.761060Z",
     "start_time": "2025-01-02T11:38:13.744488Z"
    }
   },
   "cell_type": "code",
   "source": "df.count()",
   "id": "e312b93f6d3f700c",
   "outputs": [
    {
     "data": {
      "text/plain": [
       "Title           100\n",
       "abstractText    100\n",
       "meshMajor       100\n",
       "pmid            100\n",
       "meshid          100\n",
       "meshroot        100\n",
       "A               100\n",
       "B               100\n",
       "C               100\n",
       "D               100\n",
       "E               100\n",
       "F               100\n",
       "G               100\n",
       "H               100\n",
       "I               100\n",
       "J               100\n",
       "L               100\n",
       "M               100\n",
       "N               100\n",
       "Z               100\n",
       "Article_URI     100\n",
       "dtype: int64"
      ]
     },
     "execution_count": 43,
     "metadata": {},
     "output_type": "execute_result"
    }
   ],
   "execution_count": 43
  },
  {
   "metadata": {
    "ExecuteTime": {
     "end_time": "2025-01-02T11:38:20.937454Z",
     "start_time": "2025-01-02T11:38:16.853622Z"
    }
   },
   "cell_type": "code",
   "source": [
    "articles = client.collections.get(\"Article\")\n",
    "\n",
    "with articles.batch.dynamic() as batch:\n",
    "    for index, row in df.iterrows():\n",
    "        batch.add_object({\n",
    "            \"title\": row[\"Title\"],\n",
    "            \"abstractText\": row[\"abstractText\"],\n",
    "            \"Article_URI\": row[\"Article_URI\"],\n",
    "            \"meshMajor\": row[\"meshMajor\"],\n",
    "        })"
   ],
   "id": "25a6772913ab315f",
   "outputs": [],
   "execution_count": 44
  },
  {
   "metadata": {
    "ExecuteTime": {
     "end_time": "2025-01-02T11:38:27.739169Z",
     "start_time": "2025-01-02T11:38:25.313375Z"
    }
   },
   "cell_type": "code",
   "source": [
    "#define the collection\n",
    "terms = client.collections.create(\n",
    "    name=\"term\",\n",
    "    vectorizer_config=Configure.Vectorizer.text2vec_openai(),\n",
    "    # If set to \"none\" you must always provide vectors yourself. Could be any other \"text2vec-*\" also.\n",
    "    generative_config=Configure.Generative.openai(),\n",
    "    # Ensure the `generative-openai` module is used for generative queries\n",
    ")"
   ],
   "id": "4dc98b7099dd1900",
   "outputs": [
    {
     "ename": "UnexpectedStatusCodeError",
     "evalue": "Collection may not have been created properly.! Unexpected status code: 422, with response body: {'error': [{'message': 'class name Term already exists'}]}.",
     "output_type": "error",
     "traceback": [
      "\u001B[1;31m---------------------------------------------------------------------------\u001B[0m",
      "\u001B[1;31mUnexpectedStatusCodeError\u001B[0m                 Traceback (most recent call last)",
      "Cell \u001B[1;32mIn[45], line 2\u001B[0m\n\u001B[0;32m      1\u001B[0m \u001B[38;5;66;03m#define the collection\u001B[39;00m\n\u001B[1;32m----> 2\u001B[0m terms \u001B[38;5;241m=\u001B[39m \u001B[43mclient\u001B[49m\u001B[38;5;241;43m.\u001B[39;49m\u001B[43mcollections\u001B[49m\u001B[38;5;241;43m.\u001B[39;49m\u001B[43mcreate\u001B[49m\u001B[43m(\u001B[49m\n\u001B[0;32m      3\u001B[0m \u001B[43m    \u001B[49m\u001B[43mname\u001B[49m\u001B[38;5;241;43m=\u001B[39;49m\u001B[38;5;124;43m\"\u001B[39;49m\u001B[38;5;124;43mterm\u001B[39;49m\u001B[38;5;124;43m\"\u001B[39;49m\u001B[43m,\u001B[49m\n\u001B[0;32m      4\u001B[0m \u001B[43m    \u001B[49m\u001B[43mvectorizer_config\u001B[49m\u001B[38;5;241;43m=\u001B[39;49m\u001B[43mConfigure\u001B[49m\u001B[38;5;241;43m.\u001B[39;49m\u001B[43mVectorizer\u001B[49m\u001B[38;5;241;43m.\u001B[39;49m\u001B[43mtext2vec_openai\u001B[49m\u001B[43m(\u001B[49m\u001B[43m)\u001B[49m\u001B[43m,\u001B[49m\n\u001B[0;32m      5\u001B[0m \u001B[43m    \u001B[49m\u001B[38;5;66;43;03m# If set to \"none\" you must always provide vectors yourself. Could be any other \"text2vec-*\" also.\u001B[39;49;00m\n\u001B[0;32m      6\u001B[0m \u001B[43m    \u001B[49m\u001B[43mgenerative_config\u001B[49m\u001B[38;5;241;43m=\u001B[39;49m\u001B[43mConfigure\u001B[49m\u001B[38;5;241;43m.\u001B[39;49m\u001B[43mGenerative\u001B[49m\u001B[38;5;241;43m.\u001B[39;49m\u001B[43mopenai\u001B[49m\u001B[43m(\u001B[49m\u001B[43m)\u001B[49m\u001B[43m,\u001B[49m\n\u001B[0;32m      7\u001B[0m \u001B[43m    \u001B[49m\u001B[38;5;66;43;03m# Ensure the `generative-openai` module is used for generative queries\u001B[39;49;00m\n\u001B[0;32m      8\u001B[0m \u001B[43m)\u001B[49m\n",
      "File \u001B[1;32m~\\PycharmProjects\\GraphRAG\\.venv\\Lib\\site-packages\\weaviate\\collections\\collections\\sync.py:107\u001B[0m, in \u001B[0;36m_Collections.create\u001B[1;34m(self, name, description, generative_config, inverted_index_config, multi_tenancy_config, properties, references, replication_config, reranker_config, sharding_config, vector_index_config, vectorizer_config, data_model_properties, data_model_references, skip_argument_validation)\u001B[0m\n\u001B[0;32m     36\u001B[0m \u001B[38;5;28;01mdef\u001B[39;00m \u001B[38;5;21mcreate\u001B[39m(\n\u001B[0;32m     37\u001B[0m     \u001B[38;5;28mself\u001B[39m,\n\u001B[0;32m     38\u001B[0m     name: \u001B[38;5;28mstr\u001B[39m,\n\u001B[1;32m   (...)\u001B[0m\n\u001B[0;32m     55\u001B[0m     skip_argument_validation: \u001B[38;5;28mbool\u001B[39m \u001B[38;5;241m=\u001B[39m \u001B[38;5;28;01mFalse\u001B[39;00m,\n\u001B[0;32m     56\u001B[0m ) \u001B[38;5;241m-\u001B[39m\u001B[38;5;241m>\u001B[39m Collection[Properties, References]:\n\u001B[0;32m     57\u001B[0m \u001B[38;5;250m    \u001B[39m\u001B[38;5;124;03m\"\"\"Use this method to create a collection in Weaviate and immediately return a collection object.\u001B[39;00m\n\u001B[0;32m     58\u001B[0m \n\u001B[0;32m     59\u001B[0m \u001B[38;5;124;03m    This method takes several arguments that allow you to configure the collection to your liking. Each argument\u001B[39;00m\n\u001B[1;32m   (...)\u001B[0m\n\u001B[0;32m    105\u001B[0m \u001B[38;5;124;03m            If Weaviate reports a non-OK status.\u001B[39;00m\n\u001B[0;32m    106\u001B[0m \u001B[38;5;124;03m    \"\"\"\u001B[39;00m\n\u001B[1;32m--> 107\u001B[0m     \u001B[38;5;28;43mself\u001B[39;49m\u001B[38;5;241;43m.\u001B[39;49m\u001B[43m__loop\u001B[49m\u001B[38;5;241;43m.\u001B[39;49m\u001B[43mrun_until_complete\u001B[49m\u001B[43m(\u001B[49m\n\u001B[0;32m    108\u001B[0m \u001B[43m        \u001B[49m\u001B[38;5;28;43mself\u001B[39;49m\u001B[38;5;241;43m.\u001B[39;49m\u001B[43m__collections\u001B[49m\u001B[38;5;241;43m.\u001B[39;49m\u001B[43mcreate\u001B[49m\u001B[43m,\u001B[49m\n\u001B[0;32m    109\u001B[0m \u001B[43m        \u001B[49m\u001B[43mname\u001B[49m\u001B[43m,\u001B[49m\n\u001B[0;32m    110\u001B[0m \u001B[43m        \u001B[49m\u001B[43mdescription\u001B[49m\u001B[38;5;241;43m=\u001B[39;49m\u001B[43mdescription\u001B[49m\u001B[43m,\u001B[49m\n\u001B[0;32m    111\u001B[0m \u001B[43m        \u001B[49m\u001B[43mgenerative_config\u001B[49m\u001B[38;5;241;43m=\u001B[39;49m\u001B[43mgenerative_config\u001B[49m\u001B[43m,\u001B[49m\n\u001B[0;32m    112\u001B[0m \u001B[43m        \u001B[49m\u001B[43minverted_index_config\u001B[49m\u001B[38;5;241;43m=\u001B[39;49m\u001B[43minverted_index_config\u001B[49m\u001B[43m,\u001B[49m\n\u001B[0;32m    113\u001B[0m \u001B[43m        \u001B[49m\u001B[43mmulti_tenancy_config\u001B[49m\u001B[38;5;241;43m=\u001B[39;49m\u001B[43mmulti_tenancy_config\u001B[49m\u001B[43m,\u001B[49m\n\u001B[0;32m    114\u001B[0m \u001B[43m        \u001B[49m\u001B[43mproperties\u001B[49m\u001B[38;5;241;43m=\u001B[39;49m\u001B[43mproperties\u001B[49m\u001B[43m,\u001B[49m\n\u001B[0;32m    115\u001B[0m \u001B[43m        \u001B[49m\u001B[43mreferences\u001B[49m\u001B[38;5;241;43m=\u001B[39;49m\u001B[43mreferences\u001B[49m\u001B[43m,\u001B[49m\n\u001B[0;32m    116\u001B[0m \u001B[43m        \u001B[49m\u001B[43mreplication_config\u001B[49m\u001B[38;5;241;43m=\u001B[39;49m\u001B[43mreplication_config\u001B[49m\u001B[43m,\u001B[49m\n\u001B[0;32m    117\u001B[0m \u001B[43m        \u001B[49m\u001B[43mreranker_config\u001B[49m\u001B[38;5;241;43m=\u001B[39;49m\u001B[43mreranker_config\u001B[49m\u001B[43m,\u001B[49m\n\u001B[0;32m    118\u001B[0m \u001B[43m        \u001B[49m\u001B[43msharding_config\u001B[49m\u001B[38;5;241;43m=\u001B[39;49m\u001B[43msharding_config\u001B[49m\u001B[43m,\u001B[49m\n\u001B[0;32m    119\u001B[0m \u001B[43m        \u001B[49m\u001B[43mvector_index_config\u001B[49m\u001B[38;5;241;43m=\u001B[39;49m\u001B[43mvector_index_config\u001B[49m\u001B[43m,\u001B[49m\n\u001B[0;32m    120\u001B[0m \u001B[43m        \u001B[49m\u001B[43mvectorizer_config\u001B[49m\u001B[38;5;241;43m=\u001B[39;49m\u001B[43mvectorizer_config\u001B[49m\u001B[43m,\u001B[49m\n\u001B[0;32m    121\u001B[0m \u001B[43m        \u001B[49m\u001B[43mdata_model_properties\u001B[49m\u001B[38;5;241;43m=\u001B[39;49m\u001B[43mdata_model_properties\u001B[49m\u001B[43m,\u001B[49m\n\u001B[0;32m    122\u001B[0m \u001B[43m        \u001B[49m\u001B[43mdata_model_references\u001B[49m\u001B[38;5;241;43m=\u001B[39;49m\u001B[43mdata_model_references\u001B[49m\u001B[43m,\u001B[49m\n\u001B[0;32m    123\u001B[0m \u001B[43m        \u001B[49m\u001B[43mskip_argument_validation\u001B[49m\u001B[38;5;241;43m=\u001B[39;49m\u001B[43mskip_argument_validation\u001B[49m\u001B[43m,\u001B[49m\n\u001B[0;32m    124\u001B[0m \u001B[43m    \u001B[49m\u001B[43m)\u001B[49m\n\u001B[0;32m    125\u001B[0m     \u001B[38;5;28;01mreturn\u001B[39;00m \u001B[38;5;28mself\u001B[39m\u001B[38;5;241m.\u001B[39mget(\n\u001B[0;32m    126\u001B[0m         name,\n\u001B[0;32m    127\u001B[0m         data_model_properties\u001B[38;5;241m=\u001B[39mdata_model_properties,\n\u001B[0;32m    128\u001B[0m         data_model_references\u001B[38;5;241m=\u001B[39mdata_model_references,\n\u001B[0;32m    129\u001B[0m         skip_argument_validation\u001B[38;5;241m=\u001B[39mskip_argument_validation,\n\u001B[0;32m    130\u001B[0m     )\n",
      "File \u001B[1;32m~\\PycharmProjects\\GraphRAG\\.venv\\Lib\\site-packages\\weaviate\\event_loop.py:42\u001B[0m, in \u001B[0;36m_EventLoop.run_until_complete\u001B[1;34m(self, f, *args, **kwargs)\u001B[0m\n\u001B[0;32m     40\u001B[0m     \u001B[38;5;28;01mraise\u001B[39;00m WeaviateClosedClientError()\n\u001B[0;32m     41\u001B[0m fut \u001B[38;5;241m=\u001B[39m asyncio\u001B[38;5;241m.\u001B[39mrun_coroutine_threadsafe(f(\u001B[38;5;241m*\u001B[39margs, \u001B[38;5;241m*\u001B[39m\u001B[38;5;241m*\u001B[39mkwargs), \u001B[38;5;28mself\u001B[39m\u001B[38;5;241m.\u001B[39mloop)\n\u001B[1;32m---> 42\u001B[0m \u001B[38;5;28;01mreturn\u001B[39;00m \u001B[43mfut\u001B[49m\u001B[38;5;241;43m.\u001B[39;49m\u001B[43mresult\u001B[49m\u001B[43m(\u001B[49m\u001B[43m)\u001B[49m\n",
      "File \u001B[1;32m~\\AppData\\Local\\Programs\\Python\\Python312\\Lib\\concurrent\\futures\\_base.py:456\u001B[0m, in \u001B[0;36mFuture.result\u001B[1;34m(self, timeout)\u001B[0m\n\u001B[0;32m    454\u001B[0m     \u001B[38;5;28;01mraise\u001B[39;00m CancelledError()\n\u001B[0;32m    455\u001B[0m \u001B[38;5;28;01melif\u001B[39;00m \u001B[38;5;28mself\u001B[39m\u001B[38;5;241m.\u001B[39m_state \u001B[38;5;241m==\u001B[39m FINISHED:\n\u001B[1;32m--> 456\u001B[0m     \u001B[38;5;28;01mreturn\u001B[39;00m \u001B[38;5;28;43mself\u001B[39;49m\u001B[38;5;241;43m.\u001B[39;49m\u001B[43m__get_result\u001B[49m\u001B[43m(\u001B[49m\u001B[43m)\u001B[49m\n\u001B[0;32m    457\u001B[0m \u001B[38;5;28;01melse\u001B[39;00m:\n\u001B[0;32m    458\u001B[0m     \u001B[38;5;28;01mraise\u001B[39;00m \u001B[38;5;167;01mTimeoutError\u001B[39;00m()\n",
      "File \u001B[1;32m~\\AppData\\Local\\Programs\\Python\\Python312\\Lib\\concurrent\\futures\\_base.py:401\u001B[0m, in \u001B[0;36mFuture.__get_result\u001B[1;34m(self)\u001B[0m\n\u001B[0;32m    399\u001B[0m \u001B[38;5;28;01mif\u001B[39;00m \u001B[38;5;28mself\u001B[39m\u001B[38;5;241m.\u001B[39m_exception:\n\u001B[0;32m    400\u001B[0m     \u001B[38;5;28;01mtry\u001B[39;00m:\n\u001B[1;32m--> 401\u001B[0m         \u001B[38;5;28;01mraise\u001B[39;00m \u001B[38;5;28mself\u001B[39m\u001B[38;5;241m.\u001B[39m_exception\n\u001B[0;32m    402\u001B[0m     \u001B[38;5;28;01mfinally\u001B[39;00m:\n\u001B[0;32m    403\u001B[0m         \u001B[38;5;66;03m# Break a reference cycle with the exception in self._exception\u001B[39;00m\n\u001B[0;32m    404\u001B[0m         \u001B[38;5;28mself\u001B[39m \u001B[38;5;241m=\u001B[39m \u001B[38;5;28;01mNone\u001B[39;00m\n",
      "File \u001B[1;32m~\\PycharmProjects\\GraphRAG\\.venv\\Lib\\site-packages\\weaviate\\collections\\collections\\async_.py:134\u001B[0m, in \u001B[0;36m_CollectionsAsync.create\u001B[1;34m(self, name, description, generative_config, inverted_index_config, multi_tenancy_config, properties, references, replication_config, reranker_config, sharding_config, vector_index_config, vectorizer_config, data_model_properties, data_model_references, skip_argument_validation)\u001B[0m\n\u001B[0;32m    130\u001B[0m \u001B[38;5;28;01mexcept\u001B[39;00m ValidationError \u001B[38;5;28;01mas\u001B[39;00m e:\n\u001B[0;32m    131\u001B[0m     \u001B[38;5;28;01mraise\u001B[39;00m WeaviateInvalidInputError(\n\u001B[0;32m    132\u001B[0m         \u001B[38;5;124mf\u001B[39m\u001B[38;5;124m\"\u001B[39m\u001B[38;5;124mInvalid collection config create parameters: \u001B[39m\u001B[38;5;132;01m{\u001B[39;00me\u001B[38;5;132;01m}\u001B[39;00m\u001B[38;5;124m\"\u001B[39m\n\u001B[0;32m    133\u001B[0m     ) \u001B[38;5;28;01mfrom\u001B[39;00m \u001B[38;5;21;01me\u001B[39;00m\n\u001B[1;32m--> 134\u001B[0m name \u001B[38;5;241m=\u001B[39m \u001B[38;5;28;01mawait\u001B[39;00m \u001B[38;5;28msuper\u001B[39m()\u001B[38;5;241m.\u001B[39m_create(config\u001B[38;5;241m.\u001B[39m_to_dict())\n\u001B[0;32m    135\u001B[0m \u001B[38;5;28;01massert\u001B[39;00m (\n\u001B[0;32m    136\u001B[0m     config\u001B[38;5;241m.\u001B[39mname \u001B[38;5;241m==\u001B[39m name\n\u001B[0;32m    137\u001B[0m ), \u001B[38;5;124mf\u001B[39m\u001B[38;5;124m\"\u001B[39m\u001B[38;5;124mName of created collection (\u001B[39m\u001B[38;5;132;01m{\u001B[39;00mname\u001B[38;5;132;01m}\u001B[39;00m\u001B[38;5;124m) does not match given name (\u001B[39m\u001B[38;5;132;01m{\u001B[39;00mconfig\u001B[38;5;241m.\u001B[39mname\u001B[38;5;132;01m}\u001B[39;00m\u001B[38;5;124m)\u001B[39m\u001B[38;5;124m\"\u001B[39m\n\u001B[0;32m    138\u001B[0m \u001B[38;5;28;01mreturn\u001B[39;00m \u001B[38;5;28mself\u001B[39m\u001B[38;5;241m.\u001B[39mget(\n\u001B[0;32m    139\u001B[0m     name,\n\u001B[0;32m    140\u001B[0m     data_model_properties,\n\u001B[0;32m    141\u001B[0m     data_model_references,\n\u001B[0;32m    142\u001B[0m     skip_argument_validation\u001B[38;5;241m=\u001B[39mskip_argument_validation,\n\u001B[0;32m    143\u001B[0m )\n",
      "File \u001B[1;32m~\\PycharmProjects\\GraphRAG\\.venv\\Lib\\site-packages\\weaviate\\collections\\collections\\base.py:27\u001B[0m, in \u001B[0;36m_CollectionsBase._create\u001B[1;34m(self, config)\u001B[0m\n\u001B[0;32m     23\u001B[0m \u001B[38;5;28;01masync\u001B[39;00m \u001B[38;5;28;01mdef\u001B[39;00m \u001B[38;5;21m_create\u001B[39m(\n\u001B[0;32m     24\u001B[0m     \u001B[38;5;28mself\u001B[39m,\n\u001B[0;32m     25\u001B[0m     config: \u001B[38;5;28mdict\u001B[39m,\n\u001B[0;32m     26\u001B[0m ) \u001B[38;5;241m-\u001B[39m\u001B[38;5;241m>\u001B[39m \u001B[38;5;28mstr\u001B[39m:\n\u001B[1;32m---> 27\u001B[0m     response \u001B[38;5;241m=\u001B[39m \u001B[38;5;28;01mawait\u001B[39;00m \u001B[38;5;28mself\u001B[39m\u001B[38;5;241m.\u001B[39m_connection\u001B[38;5;241m.\u001B[39mpost(\n\u001B[0;32m     28\u001B[0m         path\u001B[38;5;241m=\u001B[39m\u001B[38;5;124m\"\u001B[39m\u001B[38;5;124m/schema\u001B[39m\u001B[38;5;124m\"\u001B[39m,\n\u001B[0;32m     29\u001B[0m         weaviate_object\u001B[38;5;241m=\u001B[39mconfig,\n\u001B[0;32m     30\u001B[0m         error_msg\u001B[38;5;241m=\u001B[39m\u001B[38;5;124m\"\u001B[39m\u001B[38;5;124mCollection may not have been created properly.\u001B[39m\u001B[38;5;124m\"\u001B[39m,\n\u001B[0;32m     31\u001B[0m         status_codes\u001B[38;5;241m=\u001B[39m_ExpectedStatusCodes(ok_in\u001B[38;5;241m=\u001B[39m\u001B[38;5;241m200\u001B[39m, error\u001B[38;5;241m=\u001B[39m\u001B[38;5;124m\"\u001B[39m\u001B[38;5;124mCreate collection\u001B[39m\u001B[38;5;124m\"\u001B[39m),\n\u001B[0;32m     32\u001B[0m     )\n\u001B[0;32m     34\u001B[0m     collection_name \u001B[38;5;241m=\u001B[39m response\u001B[38;5;241m.\u001B[39mjson()[\u001B[38;5;124m\"\u001B[39m\u001B[38;5;124mclass\u001B[39m\u001B[38;5;124m\"\u001B[39m]\n\u001B[0;32m     35\u001B[0m     \u001B[38;5;28;01massert\u001B[39;00m \u001B[38;5;28misinstance\u001B[39m(collection_name, \u001B[38;5;28mstr\u001B[39m)\n",
      "File \u001B[1;32m~\\PycharmProjects\\GraphRAG\\.venv\\Lib\\site-packages\\weaviate\\connect\\v4.py:534\u001B[0m, in \u001B[0;36mConnectionV4.post\u001B[1;34m(self, path, weaviate_object, params, error_msg, status_codes, is_gql_query)\u001B[0m\n\u001B[0;32m    525\u001B[0m \u001B[38;5;28;01masync\u001B[39;00m \u001B[38;5;28;01mdef\u001B[39;00m \u001B[38;5;21mpost\u001B[39m(\n\u001B[0;32m    526\u001B[0m     \u001B[38;5;28mself\u001B[39m,\n\u001B[0;32m    527\u001B[0m     path: \u001B[38;5;28mstr\u001B[39m,\n\u001B[1;32m   (...)\u001B[0m\n\u001B[0;32m    532\u001B[0m     is_gql_query: \u001B[38;5;28mbool\u001B[39m \u001B[38;5;241m=\u001B[39m \u001B[38;5;28;01mFalse\u001B[39;00m,\n\u001B[0;32m    533\u001B[0m ) \u001B[38;5;241m-\u001B[39m\u001B[38;5;241m>\u001B[39m Response:\n\u001B[1;32m--> 534\u001B[0m     \u001B[38;5;28;01mreturn\u001B[39;00m \u001B[38;5;28;01mawait\u001B[39;00m \u001B[38;5;28mself\u001B[39m\u001B[38;5;241m.\u001B[39m__send(\n\u001B[0;32m    535\u001B[0m         \u001B[38;5;124m\"\u001B[39m\u001B[38;5;124mPOST\u001B[39m\u001B[38;5;124m\"\u001B[39m,\n\u001B[0;32m    536\u001B[0m         url\u001B[38;5;241m=\u001B[39m\u001B[38;5;28mself\u001B[39m\u001B[38;5;241m.\u001B[39murl \u001B[38;5;241m+\u001B[39m \u001B[38;5;28mself\u001B[39m\u001B[38;5;241m.\u001B[39m_api_version_path \u001B[38;5;241m+\u001B[39m path,\n\u001B[0;32m    537\u001B[0m         weaviate_object\u001B[38;5;241m=\u001B[39mweaviate_object,\n\u001B[0;32m    538\u001B[0m         params\u001B[38;5;241m=\u001B[39mparams,\n\u001B[0;32m    539\u001B[0m         error_msg\u001B[38;5;241m=\u001B[39merror_msg,\n\u001B[0;32m    540\u001B[0m         status_codes\u001B[38;5;241m=\u001B[39mstatus_codes,\n\u001B[0;32m    541\u001B[0m         is_gql_query\u001B[38;5;241m=\u001B[39mis_gql_query,\n\u001B[0;32m    542\u001B[0m     )\n",
      "File \u001B[1;32m~\\PycharmProjects\\GraphRAG\\.venv\\Lib\\site-packages\\weaviate\\connect\\v4.py:489\u001B[0m, in \u001B[0;36mConnectionV4.__send\u001B[1;34m(self, method, url, error_msg, status_codes, is_gql_query, weaviate_object, params)\u001B[0m\n\u001B[0;32m    487\u001B[0m     \u001B[38;5;28;01mraise\u001B[39;00m WeaviateTimeoutError(error_msg) \u001B[38;5;28;01mfrom\u001B[39;00m \u001B[38;5;21;01mread_err\u001B[39;00m\n\u001B[0;32m    488\u001B[0m \u001B[38;5;28;01mexcept\u001B[39;00m \u001B[38;5;167;01mException\u001B[39;00m \u001B[38;5;28;01mas\u001B[39;00m e:\n\u001B[1;32m--> 489\u001B[0m     \u001B[38;5;28;01mraise\u001B[39;00m e\n",
      "File \u001B[1;32m~\\PycharmProjects\\GraphRAG\\.venv\\Lib\\site-packages\\weaviate\\connect\\v4.py:480\u001B[0m, in \u001B[0;36mConnectionV4.__send\u001B[1;34m(self, method, url, error_msg, status_codes, is_gql_query, weaviate_object, params)\u001B[0m\n\u001B[0;32m    478\u001B[0m         \u001B[38;5;28;01mraise\u001B[39;00m InsufficientPermissionsError(res)\n\u001B[0;32m    479\u001B[0m     \u001B[38;5;28;01mif\u001B[39;00m status_codes \u001B[38;5;129;01mis\u001B[39;00m \u001B[38;5;129;01mnot\u001B[39;00m \u001B[38;5;28;01mNone\u001B[39;00m \u001B[38;5;129;01mand\u001B[39;00m res\u001B[38;5;241m.\u001B[39mstatus_code \u001B[38;5;129;01mnot\u001B[39;00m \u001B[38;5;129;01min\u001B[39;00m status_codes\u001B[38;5;241m.\u001B[39mok:\n\u001B[1;32m--> 480\u001B[0m         \u001B[38;5;28;01mraise\u001B[39;00m UnexpectedStatusCodeError(error_msg, response\u001B[38;5;241m=\u001B[39mres)\n\u001B[0;32m    481\u001B[0m     \u001B[38;5;28;01mreturn\u001B[39;00m cast(Response, res)\n\u001B[0;32m    482\u001B[0m \u001B[38;5;28;01mexcept\u001B[39;00m \u001B[38;5;167;01mRuntimeError\u001B[39;00m \u001B[38;5;28;01mas\u001B[39;00m e:\n",
      "\u001B[1;31mUnexpectedStatusCodeError\u001B[0m: Collection may not have been created properly.! Unexpected status code: 422, with response body: {'error': [{'message': 'class name Term already exists'}]}."
     ]
    }
   ],
   "execution_count": 45
  },
  {
   "metadata": {
    "ExecuteTime": {
     "end_time": "2025-01-02T11:38:37.111438Z",
     "start_time": "2025-01-02T11:38:29.315270Z"
    }
   },
   "cell_type": "code",
   "source": [
    "terms = client.collections.get(\"term\")\n",
    "\n",
    "with terms.batch.dynamic() as batch:\n",
    "    for index, row in mesh_df.iterrows():\n",
    "        batch.add_object({\n",
    "            \"meshTerm\": row[\"meshTerm\"],\n",
    "            \"URI\": row[\"URI\"],\n",
    "        })"
   ],
   "id": "c15493b1a1efcd88",
   "outputs": [],
   "execution_count": 46
  },
  {
   "metadata": {
    "ExecuteTime": {
     "end_time": "2025-01-02T11:38:39.784167Z",
     "start_time": "2025-01-02T11:38:39.095959Z"
    }
   },
   "cell_type": "code",
   "source": [
    "from weaviate.classes.query import MetadataQuery\n",
    "\n",
    "response = terms.query.near_text(\n",
    "    query=\"mouth cancer\",\n",
    "    limit=10,\n",
    "    return_metadata=MetadataQuery(distance=True)\n",
    ")\n",
    "\n",
    "for o in response.objects:\n",
    "    print(f\"UUID: {o.uuid}\")\n",
    "    print(o.properties)\n",
    "    print(o.metadata.distance)\n",
    "    #print(o.Object._WeaviateUUIDInt)"
   ],
   "id": "61c7d5ba93f331a3",
   "outputs": [
    {
     "name": "stdout",
     "output_type": "stream",
     "text": [
      "UUID: 48a17d3c-e201-4fc9-b5d7-19fc9f588759\n",
      "{'meshTerm': 'Carcinoma', 'uRI': 'http://example.org/mesh/Carcinoma'}\n",
      "0.5727269649505615\n",
      "UUID: 827f75e1-b90e-42ab-82e4-93a2f7d5574b\n",
      "{'meshTerm': \"Tumor'\", 'uRI': 'http://example.org/mesh/Tumor_'}\n",
      "0.5852658748626709\n",
      "UUID: d9045f26-4046-4f5a-921b-9db1f7b4ba8c\n",
      "{'meshTerm': \"'Lung_Neoplasms'\", 'uRI': 'http://example.org/mesh/_Lung_Neoplasms_'}\n",
      "0.5928232669830322\n",
      "UUID: 59a26555-c930-49fc-9f77-50ac49c031e4\n",
      "{'meshTerm': \"'Leukemia\", 'uRI': 'http://example.org/mesh/_Leukemia'}\n",
      "0.6095847487449646\n",
      "UUID: 09443309-bd87-4791-be31-8439f087bda0\n",
      "{'meshTerm': \"'Leukemia'\", 'uRI': 'http://example.org/mesh/_Leukemia_'}\n",
      "0.6237491965293884\n",
      "UUID: 16cd739c-9d29-4ab3-b008-1552d8429649\n",
      "{'meshTerm': \"'Sarcoma\", 'uRI': 'http://example.org/mesh/_Sarcoma'}\n",
      "0.6294556260108948\n",
      "UUID: a431d068-fa6d-4f68-ba09-348ded2d41b4\n",
      "{'meshTerm': \"HPV'\", 'uRI': 'http://example.org/mesh/HPV_'}\n",
      "0.6298399567604065\n",
      "UUID: 7a3330b2-de8b-4978-be6a-41021059bbc2\n",
      "{'meshTerm': \"'Lung'\", 'uRI': 'http://example.org/mesh/_Lung_'}\n",
      "0.6491860151290894\n",
      "UUID: 0d8dc17f-a56e-4aff-a10e-896c61d57001\n",
      "{'meshTerm': \"Squamous_Cell'\", 'uRI': 'http://example.org/mesh/Squamous_Cell_'}\n",
      "0.6512976884841919\n",
      "UUID: 49816eb2-c205-413f-b64f-8128b7bc69f1\n",
      "{'meshTerm': \"'Esophagitis\", 'uRI': 'http://example.org/mesh/_Esophagitis'}\n",
      "0.663048505783081\n"
     ]
    }
   ],
   "execution_count": 47
  },
  {
   "metadata": {
    "ExecuteTime": {
     "end_time": "2025-01-02T11:38:46.011275Z",
     "start_time": "2025-01-02T11:38:45.372325Z"
    }
   },
   "cell_type": "code",
   "source": [
    "#Check that it works\n",
    "response = articles.query.near_text(\n",
    "    query=\"mouth cancer\",\n",
    "    limit=2,\n",
    "    return_metadata=MetadataQuery(distance=True)\n",
    ")\n",
    "\n",
    "for o in response.objects:\n",
    "    print(f\"UUID: {o.uuid}\")\n",
    "    print(o.properties)\n",
    "    print(o.metadata.distance)\n",
    "    #print(o.Object._WeaviateUUIDInt)"
   ],
   "id": "1285b7790fa6f1a9",
   "outputs": [
    {
     "name": "stdout",
     "output_type": "stream",
     "text": [
      "UUID: 57728238-484e-4218-8f35-0eb495bf9c1d\n",
      "{'title': 'Dysbiosis of the Gut Microbiome is associated with Tumor Biomarkers in Lung Cancer.', 'meshMajor': \"['Aged', 'Bacteria', 'Biomarkers, Tumor', 'Dysbiosis', 'Feces', 'Female', 'Gastrointestinal Microbiome', 'Humans', 'Lung Neoplasms', 'Male', 'Middle Aged', 'RNA, Ribosomal, 16S']\", 'abstractText': 'Lung cancer is a malignancy with high morbidity and mortality worldwide. More evidences indicated that gut microbiome plays an important role in the carcinogenesis and progression of cancers by metabolism, inflammation and immune response. However, the study about the characterizations of gut microbiome in lung cancer is limited. In this study, the fecal samples were collected from 16 healthy individuals and 30 lung cancer patients who were divided into 3 groups based on different tumor biomarkers (cytokeratin 19 fragment, neuron specific enolase and carcinoembryonic antigen, respectively) and were analyzed using 16S rRNA gene amplicon sequencing. Each lung cancer group has characterized gut microbial community and presents an elimination, low-density, and loss of bacterial diversity microbial ecosystem compared to that of the healthy control. The microbiome structures in family and genera levels are more complex and significantly varied from each group presenting more different and special pathogen microbiome such as Enterobacteriaceae, Streptococcus, Prevotella, etc and fewer probiotic genera including Blautia, Coprococcus, Bifidobacterium and Lachnospiraceae. The Kyoto Encyclopedia of Genes and Genomes (KEGG) and COG annotation demonstrated decreased abundance of some dominant metabolism-related pathways in the lung cancer. This study explores for the first time the features of gut microbiome in lung cancer patients and may provide new insight into the pathogenesis of lung cancer system, with the implication that gut microbiota may serve as a microbial marker and contribute to the derived metabolites, development and differentiation in lung cancer system.', 'article_URI': 'http://example.org/article/Dysbiosis_of_the_Gut_Microbiome_is_associated_with_Tumor_Biomarkers_in_Lung_Cancer.'}\n",
      "0.6344658732414246\n",
      "UUID: cd21fccb-e9bb-48d4-8a90-eba669f57487\n",
      "{'title': 'Radiobiologic risk estimation from dental radiology. Part I. Absorbed doses to critical organs.', 'meshMajor': \"['Bone Marrow', 'Cervical Vertebrae', 'Equipment Design', 'Film Dosimetry', 'Humans', 'Mandible', 'Models, Structural', 'Pituitary Gland', 'Radiation Dosage', 'Radiobiology', 'Radiography, Panoramic', 'Risk Factors', 'Salivary Glands', 'Thyroid Gland', 'X-Ray Film', 'X-Ray Intensifying Screens']\", 'abstractText': 'The aim of the present study was to generate one consistent set of data for evaluating and comparing radiobiologic risks from different dental radiographic techniques. To accomplish this goal, absorbed doses were measured in fourteen anatomic sites from (1) five different panoramic machines with the use of rare-earth screens, (2) a twenty-film complete-mouth survey with E-speed film, long round cone, (3) a twenty-film complete-mouth survey with E-speed film, long rectangular cone, (4) a four-film interproximal survey with E-speed film, long round cone, and (5) a four-film interproximal survey with E-speed film, long rectangular cone. The dose to the thyroid gland, the active bone marrow, the brain, and the salivary glands was evaluated by means of exposure of a tissue-equivalent phantom, fitted with lithium fluoride thermoluminescent dosimeters (TLDs) at the relevant locations.', 'article_URI': 'http://example.org/article/Radiobiologic_risk_estimation_from_dental_radiology._Part_I._Absorbed_doses_to_critical_organs.'}\n",
      "0.6854696273803711\n"
     ]
    }
   ],
   "execution_count": 48
  },
  {
   "metadata": {
    "ExecuteTime": {
     "end_time": "2025-01-02T11:38:56.673770Z",
     "start_time": "2025-01-02T11:38:56.308045Z"
    }
   },
   "cell_type": "code",
   "source": [
    "aggregation = articles.aggregate.over_all(total_count=True)\n",
    "print(aggregation.total_count)"
   ],
   "id": "20f3fb5030e83118",
   "outputs": [
    {
     "name": "stdout",
     "output_type": "stream",
     "text": [
      "100\n"
     ]
    }
   ],
   "execution_count": 49
  },
  {
   "metadata": {
    "ExecuteTime": {
     "end_time": "2025-01-02T11:39:32.932824Z",
     "start_time": "2025-01-02T11:39:32.651089Z"
    }
   },
   "cell_type": "code",
   "source": [
    "#Check that similarity works\n",
    "response = articles.query.near_object(\n",
    "    near_object=\"57728238-484e-4218-8f35-0eb495bf9c1d\",\n",
    "    limit=2,\n",
    "    return_metadata=MetadataQuery(distance=True)\n",
    ")\n",
    "\n",
    "for o in response.objects:\n",
    "    print(o.properties)\n",
    "    print(o.metadata.distance)"
   ],
   "id": "4208313218e61d66",
   "outputs": [
    {
     "name": "stdout",
     "output_type": "stream",
     "text": [
      "{'title': 'Dysbiosis of the Gut Microbiome is associated with Tumor Biomarkers in Lung Cancer.', 'meshMajor': \"['Aged', 'Bacteria', 'Biomarkers, Tumor', 'Dysbiosis', 'Feces', 'Female', 'Gastrointestinal Microbiome', 'Humans', 'Lung Neoplasms', 'Male', 'Middle Aged', 'RNA, Ribosomal, 16S']\", 'abstractText': 'Lung cancer is a malignancy with high morbidity and mortality worldwide. More evidences indicated that gut microbiome plays an important role in the carcinogenesis and progression of cancers by metabolism, inflammation and immune response. However, the study about the characterizations of gut microbiome in lung cancer is limited. In this study, the fecal samples were collected from 16 healthy individuals and 30 lung cancer patients who were divided into 3 groups based on different tumor biomarkers (cytokeratin 19 fragment, neuron specific enolase and carcinoembryonic antigen, respectively) and were analyzed using 16S rRNA gene amplicon sequencing. Each lung cancer group has characterized gut microbial community and presents an elimination, low-density, and loss of bacterial diversity microbial ecosystem compared to that of the healthy control. The microbiome structures in family and genera levels are more complex and significantly varied from each group presenting more different and special pathogen microbiome such as Enterobacteriaceae, Streptococcus, Prevotella, etc and fewer probiotic genera including Blautia, Coprococcus, Bifidobacterium and Lachnospiraceae. The Kyoto Encyclopedia of Genes and Genomes (KEGG) and COG annotation demonstrated decreased abundance of some dominant metabolism-related pathways in the lung cancer. This study explores for the first time the features of gut microbiome in lung cancer patients and may provide new insight into the pathogenesis of lung cancer system, with the implication that gut microbiota may serve as a microbial marker and contribute to the derived metabolites, development and differentiation in lung cancer system.', 'article_URI': 'http://example.org/article/Dysbiosis_of_the_Gut_Microbiome_is_associated_with_Tumor_Biomarkers_in_Lung_Cancer.'}\n",
      "4.76837158203125e-07\n",
      "{'title': 'Pneumococcal behavior and host responses during bronchopneumonia are affected differently by the cytolytic and complement-activating activities of pneumolysin.', 'meshMajor': \"['Animals', 'Bacteremia', 'Bacterial Proteins', 'Bronchopneumonia', 'Complement Activation', 'Cytotoxins', 'Female', 'Immunohistochemistry', 'Lung', 'Mice', 'Pneumonia, Pneumococcal', 'Streptococcus pneumoniae', 'Streptolysins']\", 'abstractText': \"Pneumolysin, a multifunctional toxin produced by all clinical isolates of Streptococcus pneumoniae, is strongly implicated in the pathogenesis of pneumococcal bronchopneumonia and septicemia. Using isogenic mutant strains, we examined the effect of deletion of the cytotoxic activity or complement-activating activity of pneumolysin on bacterial growth in lungs and blood, histological changes in infected lung tissue, and the pattern of inflammatory cell recruitment. Both of the activities of pneumolysin contributed to the pathology in the lungs, as well as the timing of the onset of bacteremia. Histological changes in the lungs were delayed after infection with either mutant compared to the changes seen after infection with the wild-type pneumococcus. The complement-activating activity of pneumolysin affected the accumulation of T cells, whereas the toxin's cytolytic activity influenced neutrophil recruitment into lung tissue.\", 'article_URI': 'http://example.org/article/Pneumococcal_behavior_and_host_responses_during_bronchopneumonia_are_affected_differently_by_the_cytolytic_and_complement-activating_activities_of_pneumolysin.'}\n",
      "0.524583101272583\n"
     ]
    }
   ],
   "execution_count": 50
  },
  {
   "metadata": {
    "ExecuteTime": {
     "end_time": "2025-01-02T11:39:46.582232Z",
     "start_time": "2025-01-02T11:39:44.902339Z"
    }
   },
   "cell_type": "code",
   "source": [
    "prompt = \"Please explain this article {title} like you would to someone without a medical degree.\"\n",
    "\n",
    "response = articles.generate.near_text(\n",
    "    query=\"Malignant fibrous histiocytoma of the pharynx.\",\n",
    "    limit=1,\n",
    "    single_prompt=prompt\n",
    ")\n",
    "\n",
    "# print source properties and generated responses\n",
    "for o in response.objects:\n",
    "    print(o.properties)\n",
    "    print(o.generated)"
   ],
   "id": "ebfcd36ece37d8eb",
   "outputs": [
    {
     "name": "stdout",
     "output_type": "stream",
     "text": [
      "{'title': 'Multiple persistent keratoacanthomas.', 'meshMajor': \"['Carcinoma, Squamous Cell', 'Diagnosis, Differential', 'Facial Dermatoses', 'Female', 'Humans', 'Keratoacanthoma', 'Leg Dermatoses', 'Middle Aged', 'Skin', 'Skin Neoplasms']\", 'abstractText': 'A unique case of multiple keratoacanthomas is described, with involvement of the face and lower extremities with persistent lesions clinically and histologically diagnostic of keratoacanthomas. The lower extremity lesions appear as giant keratoacanthomas, with evolution into a distinctive confluent plaque. This important tumor and its present classification are reviewed.', 'article_URI': 'http://example.org/article/Multiple_persistent_keratoacanthomas.'}\n",
      "Sure! This article is about a condition called keratoacanthoma, which is a type of skin growth that usually appears on sun-exposed areas of the body. In this case, the person has multiple keratoacanthomas that keep coming back or persisting. This can be concerning because keratoacanthomas can sometimes be mistaken for skin cancer, so it's important for the person to see a doctor regularly to monitor the growths and make sure they are not cancerous. The article likely discusses different treatment options and ways to manage multiple persistent keratoacanthomas.\n"
     ]
    }
   ],
   "execution_count": 51
  },
  {
   "metadata": {
    "ExecuteTime": {
     "end_time": "2025-01-02T11:41:49.533621Z",
     "start_time": "2025-01-02T11:41:44.440703Z"
    }
   },
   "cell_type": "code",
   "source": [
    "#Grouped RAG\n",
    "task = \"Summarize the key information here in bullet points. Make it understandable to someone without a medical degree.\"\n",
    "\n",
    "response = articles.generate.near_text(\n",
    "    query=\"mouth cancer\",\n",
    "    limit=3,\n",
    "    grouped_task=task\n",
    ")\n",
    "\n",
    "# print the generated response\n",
    "print(response.generated)"
   ],
   "id": "f56cfccbc3656452",
   "outputs": [
    {
     "name": "stdout",
     "output_type": "stream",
     "text": [
      "- Gut microbiome plays a role in the development and progression of lung cancer\n",
      "- Study analyzed fecal samples from healthy individuals and lung cancer patients\n",
      "- Different gut microbial communities were found in lung cancer patients compared to healthy controls\n",
      "- Lung cancer patients had lower bacterial diversity and different pathogen microbiome\n",
      "- Decreased abundance of metabolism-related pathways in lung cancer patients\n",
      "- Gut microbiota may serve as a microbial marker in lung cancer system\n",
      "\n",
      "- Study evaluated radiobiologic risks from different dental radiographic techniques\n",
      "- Absorbed doses were measured in critical organs from various dental radiographic techniques\n",
      "- Different machines and film types were used in the study\n",
      "- Doses to thyroid gland, bone marrow, brain, and salivary glands were evaluated\n",
      "- Tissue-equivalent phantom with TLDs was used to measure doses\n",
      "\n",
      "- Methotrexate can cause neurotoxicity affecting the cerebral white matter\n",
      "- Case study of a 15-year-old male who developed neurological symptoms after methotrexate treatment for leukemia\n",
      "- MRI showed white matter disease in temporal lobes\n",
      "- Brain biopsy confirmed methotrexate-related white matter injury\n",
      "- Caution advised when administering intraventricular methotrexate in children with history of CNS leukemia\n"
     ]
    }
   ],
   "execution_count": 52
  },
  {
   "metadata": {
    "ExecuteTime": {
     "end_time": "2025-01-02T11:42:03.080733Z",
     "start_time": "2025-01-02T11:42:02.362357Z"
    }
   },
   "cell_type": "code",
   "source": [
    "from rdflib import Graph, RDF, RDFS, Namespace, URIRef, Literal\n",
    "from rdflib.namespace import SKOS, XSD\n",
    "import pandas as pd\n",
    "import urllib.parse\n",
    "import random\n",
    "from datetime import datetime, timedelta\n",
    "import re\n",
    "from urllib.parse import quote\n",
    "\n",
    "# --- Initialization ---\n",
    "g = Graph()\n",
    "\n",
    "# Define namespaces\n",
    "schema = Namespace('http://schema.org/')\n",
    "ex = Namespace('http://example.org/')\n",
    "prefixes = {\n",
    "    'schema': schema,\n",
    "    'ex': ex,\n",
    "    'skos': SKOS,\n",
    "    'xsd': XSD\n",
    "}\n",
    "for p, ns in prefixes.items():\n",
    "    g.bind(p, ns)\n",
    "\n",
    "# Define classes and properties\n",
    "Article = URIRef(ex.Article)\n",
    "MeSHTerm = URIRef(ex.MeSHTerm)\n",
    "g.add((Article, RDF.type, RDFS.Class))\n",
    "g.add((MeSHTerm, RDF.type, RDFS.Class))\n",
    "\n",
    "title = URIRef(schema.name)\n",
    "abstract = URIRef(schema.description)\n",
    "date_published = URIRef(schema.datePublished)\n",
    "access = URIRef(ex.access)\n",
    "\n",
    "g.add((title, RDF.type, RDF.Property))\n",
    "g.add((abstract, RDF.type, RDF.Property))\n",
    "g.add((date_published, RDF.type, RDF.Property))\n",
    "g.add((access, RDF.type, RDF.Property))\n",
    "\n",
    "\n",
    "# Function to clean and parse MeSH terms\n",
    "def parse_mesh_terms(mesh_list):\n",
    "    if pd.isna(mesh_list):\n",
    "        return []\n",
    "    return [term.strip() for term in mesh_list.strip(\"[]'\").split(',')]\n",
    "\n",
    "\n",
    "# Enhanced convert_to_uri function\n",
    "def convert_to_uri(term, base_namespace=\"http://example.org/mesh/\"):\n",
    "    \"\"\"\n",
    "    Converts a MeSH term into a standardized URI by replacing spaces and special characters with underscores,\n",
    "    ensuring it starts and ends with a single underscore, and URL-encoding the term.\n",
    "\n",
    "    Args:\n",
    "        term (str): The MeSH term to convert.\n",
    "        base_namespace (str): The base namespace for the URI.\n",
    "\n",
    "    Returns:\n",
    "        URIRef: The formatted URI.\n",
    "    \"\"\"\n",
    "    if pd.isna(term):\n",
    "        return None  # Handle NaN or None terms gracefully\n",
    "\n",
    "    # Step 1: Strip existing leading and trailing non-word characters (including underscores)\n",
    "    stripped_term = re.sub(r'^\\W+|\\W+$', '', term)\n",
    "\n",
    "    # Step 2: Replace non-word characters with underscores (one or more)\n",
    "    formatted_term = re.sub(r'\\W+', '_', stripped_term)\n",
    "\n",
    "    # Step 3: Replace multiple consecutive underscores with a single underscore\n",
    "    formatted_term = re.sub(r'_+', '_', formatted_term)\n",
    "\n",
    "    # Step 4: URL-encode the term to handle any remaining special characters\n",
    "    encoded_term = quote(formatted_term)\n",
    "\n",
    "    # Step 5: Add single leading and trailing underscores\n",
    "    term_with_underscores = f\"_{encoded_term}_\"\n",
    "\n",
    "    # Step 6: Concatenate with base_namespace without adding an extra underscore\n",
    "    uri = f\"{base_namespace}{term_with_underscores}\"\n",
    "\n",
    "    return URIRef(uri)\n",
    "\n",
    "\n",
    "# Function to generate a random date within the last 5 years\n",
    "def generate_random_date():\n",
    "    start_date = datetime.now() - timedelta(days=5 * 365)\n",
    "    random_days = random.randint(0, 5 * 365)\n",
    "    return start_date + timedelta(days=random_days)\n",
    "\n",
    "\n",
    "# Function to generate a random access value between 1 and 10\n",
    "def generate_random_access():\n",
    "    return random.randint(1, 10)\n",
    "\n",
    "\n",
    "# Function to create a valid URI for Articles\n",
    "def create_article_uri(title, base_namespace=\"http://example.org/article\"):\n",
    "    \"\"\"\n",
    "    Creates a URI for an article by replacing non-word characters with underscores and URL-encoding.\n",
    "\n",
    "    Args:\n",
    "        title (str): The title of the article.\n",
    "        base_namespace (str): The base namespace for the article URI.\n",
    "\n",
    "    Returns:\n",
    "        URIRef: The formatted article URI.\n",
    "    \"\"\"\n",
    "    if pd.isna(title):\n",
    "        return None\n",
    "    # Encode text to be used in URI\n",
    "    sanitized_text = urllib.parse.quote(\n",
    "        title.strip().replace(' ', '_').replace('\"', '').replace('<', '').replace('>', '').replace(\"'\", \"_\"))\n",
    "    return URIRef(f\"{base_namespace}/{sanitized_text}\")\n",
    "\n",
    "\n",
    "# Loop through each row in the DataFrame and create RDF triples\n",
    "for index, row in df.iterrows():\n",
    "    article_uri = create_article_uri(row['Title'])\n",
    "    if article_uri is None:\n",
    "        continue\n",
    "\n",
    "    # Add Article instance\n",
    "    g.add((article_uri, RDF.type, Article))\n",
    "    g.add((article_uri, title, Literal(row['Title'], datatype=XSD.string)))\n",
    "    g.add((article_uri, abstract, Literal(row['abstractText'], datatype=XSD.string)))\n",
    "\n",
    "    # Add random datePublished and access\n",
    "    random_date = generate_random_date()\n",
    "    random_access = generate_random_access()\n",
    "    g.add((article_uri, date_published, Literal(random_date.date(), datatype=XSD.date)))\n",
    "    g.add((article_uri, access, Literal(random_access, datatype=XSD.integer)))\n",
    "\n",
    "    # Add MeSH Terms\n",
    "    mesh_terms = parse_mesh_terms(row['meshMajor'])\n",
    "    for term in mesh_terms:\n",
    "        term_uri = convert_to_uri(term, base_namespace=\"http://example.org/mesh/\")\n",
    "        if term_uri is None:\n",
    "            continue\n",
    "\n",
    "        # Add MeSH Term instance\n",
    "        g.add((term_uri, RDF.type, MeSHTerm))\n",
    "        g.add((term_uri, RDFS.label, Literal(term.replace('_', ' '), datatype=XSD.string)))\n",
    "\n",
    "        # Link Article to MeSH Term\n",
    "        g.add((article_uri, schema.about, term_uri))\n",
    "\n",
    "# Serialize the graph to a file (optional)\n",
    "g.serialize(destination='./data/PubMedGraph.ttl', format='turtle')"
   ],
   "id": "a3c20cf510f84c52",
   "outputs": [
    {
     "name": "stderr",
     "output_type": "stream",
     "text": [
      "C:\\Users\\Shravan\\PycharmProjects\\GraphRAG\\.venv\\Lib\\site-packages\\weaviate\\warnings.py:314: ResourceWarning: Con004: The connection to Weaviate was not closed properly. This can lead to memory leaks.\n",
      "            Please make sure to close the connection using `client.close()`.\n",
      "  warnings.warn(\n",
      "C:\\Users\\Shravan\\AppData\\Local\\Programs\\Python\\Python312\\Lib\\asyncio\\selector_events.py:879: ResourceWarning: unclosed transport <_SelectorSocketTransport fd=2844 read=idle write=<idle, bufsize=0>>\n",
      "  _warn(f\"unclosed transport {self!r}\", ResourceWarning, source=self)\n",
      "ResourceWarning: Enable tracemalloc to get the object allocation traceback\n",
      "C:\\Users\\Shravan\\AppData\\Local\\Programs\\Python\\Python312\\Lib\\asyncio\\selector_events.py:879: ResourceWarning: unclosed transport <_SelectorSocketTransport fd=3060 read=idle write=<idle, bufsize=0>>\n",
      "  _warn(f\"unclosed transport {self!r}\", ResourceWarning, source=self)\n",
      "ResourceWarning: Enable tracemalloc to get the object allocation traceback\n",
      "C:\\Users\\Shravan\\AppData\\Local\\Programs\\Python\\Python312\\Lib\\asyncio\\selector_events.py:879: ResourceWarning: unclosed transport <_SelectorSocketTransport fd=2716 read=idle write=<idle, bufsize=0>>\n",
      "  _warn(f\"unclosed transport {self!r}\", ResourceWarning, source=self)\n",
      "ResourceWarning: Enable tracemalloc to get the object allocation traceback\n"
     ]
    },
    {
     "data": {
      "text/plain": [
       "<Graph identifier=Nd4e84601e3444fbf947b1fde5337b971 (<class 'rdflib.graph.Graph'>)>"
      ]
     },
     "execution_count": 53,
     "metadata": {},
     "output_type": "execute_result"
    }
   ],
   "execution_count": 53
  },
  {
   "metadata": {
    "ExecuteTime": {
     "end_time": "2025-01-02T12:09:18.619578Z",
     "start_time": "2025-01-02T12:09:18.606462Z"
    }
   },
   "cell_type": "code",
   "source": "print(f\"file saved to `data/PubMedGraph.ttl`\")",
   "id": "23db0f73a615a621",
   "outputs": [
    {
     "name": "stdout",
     "output_type": "stream",
     "text": [
      "file saved to `data/PubMedGraph.ttl`\n"
     ]
    }
   ],
   "execution_count": 56
  }
 ],
 "metadata": {
  "kernelspec": {
   "display_name": "Python 3",
   "language": "python",
   "name": "python3"
  },
  "language_info": {
   "codemirror_mode": {
    "name": "ipython",
    "version": 2
   },
   "file_extension": ".py",
   "mimetype": "text/x-python",
   "name": "python",
   "nbconvert_exporter": "python",
   "pygments_lexer": "ipython2",
   "version": "2.7.6"
  }
 },
 "nbformat": 4,
 "nbformat_minor": 5
}
